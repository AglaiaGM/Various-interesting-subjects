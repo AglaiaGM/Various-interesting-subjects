{
 "cells": [
  {
   "cell_type": "markdown",
   "metadata": {},
   "source": [
    "### Theoretical background underlying Heston model "
   ]
  },
  {
   "cell_type": "markdown",
   "metadata": {},
   "source": [
    "Risk neutral dynamics of $S_t$ and $v_t$ (zero dividend yield):\n",
    "\\begin{align}\n",
    "\\frac{dS_t}{S_t} &= rdt + \\sqrt{v_t}dW_t ,\\\\\n",
    "dv_t &= \\kappa(\\theta - v_t)dt + \\sigma \\sqrt{v_t}dZ_t,\n",
    "\\end{align}\n",
    "where $W_t, Z_t$ are standard Brownian motion with $d<W_t, Z_t> = \\rho dt$.\n",
    "\n",
    "Let $V(t, S, v)$ be a price of any derivative, then applying Ito we get:\n",
    "\\begin{equation}\n",
    "\\frac{\\partial V}{\\partial t} + \\frac{\\partial V}{\\partial S} rS + 0.5 \\frac{\\partial^2 V}{\\partial S^2}S^2 v - rV + \\frac{\\partial V}{\\partial v} \\kappa (\\theta - v) + 0.5 \\frac{\\partial^2 V}{\\partial v^2} \\sigma^2 v + \\frac{\\partial^2 V}{\\partial S \\partial v} \\sigma v \\rho S = 0\n",
    "\\end{equation}\n",
    "\n",
    "Model features:\n",
    "- stochastic volatility\n",
    "- mean-reversion in variance\n",
    "- volatility of variance increases with the level of variance\n",
    "- Non-zero correlation between innovations to stock returns and variance\n",
    "\n",
    "Model parameters:\n",
    "- $\\theta$ is the long-run mean of variance\n",
    "- $\\kappa$ is the speed of mean-reversion\n",
    "- $\\sigma$ determines the volatility of variance (affects the kurtosis of the risk-neutral return and the curvature of the implied volatility smile\n",
    "- $\\rho$ determines the correlation between shocks to the underlying and its variance (affecting the skewness and assymetry of the implied volatility smile)\n"
   ]
  },
  {
   "cell_type": "markdown",
   "metadata": {},
   "source": [
    "Note three useful probability measures:\n",
    "- Risk-neutral measure $\\mathbb{Q}$, where the numeraire is the money market account $A_t = e^{\\int_0^t r_s ds}$. In particular, \n",
    "$$ V_t = \\mathbb{E}_t^{\\mathbb{Q}} [e^{-\\int_t^T r_s ds} V_T] $$\n",
    "\n",
    "- Forward measure $\\mathbb{Q}^T$, where numeraire is a zero-coupon bond expiring at $T$, $P(t,T)$ with $P(T,T) = 1$:\n",
    "$$ V_t = P(t,T)\\mathbb{E}_t^{\\mathbb{Q}^T}[V_T]$$\n",
    "\n",
    "- Stock measure $\\mathbb{Q}^S$, where the numeraire is the underlying stock $S_T$:\n",
    "$$V_t = S_t \\mathbb{E}_t^{\\mathbb{Q}^S} [\\frac{V_T}{S_T}]$$"
   ]
  },
  {
   "cell_type": "markdown",
   "metadata": {},
   "source": [
    "### Change of numeraire "
   ]
  },
  {
   "cell_type": "markdown",
   "metadata": {},
   "source": [
    "Change of numeraire\n",
    "\n",
    "Under the risk-neutral measure, a price process $P_t$ discounted by the value $A_t$ of the money-market account is a martingale:\n",
    "$$\\frac{P_t}{A_t} = \\mathbb{E}_t^{\\mathbb{Q}} [\\frac{P_T}{A_T}],$$\n",
    "for any $t\\leq T$. \n",
    "\n",
    "Let $\\xi_t = \\frac{N_t}{N_0} \\frac{A_0}{A_t}$, where $N_t$ is a positive (price) process of another asset. Note, that $\\xi_t$ starts at $1$, is strictly poisitive and is a $\\mathbb{Q}$-martingale. \n",
    "\n",
    "Defined a new measure through Radon-Nikodym derivative:\n",
    "$$\\frac{d\\mathbb{Q}^N}{d\\mathbb{Q}}  = \\frac{\\xi_T}{\\xi_t} = D = \\frac{N_T}{N_t} \\frac{A_t}{A_T}$$\n",
    "\n",
    "In particular, by Bayes rule,\n",
    "\\begin{align}\n",
    "\\frac{P_t}{A_t} = & \\mathbb{E}^{\\mathbb{Q}}_t [\\frac{P_T}{A_T}] = \\mathbb{E}_t^{\\mathbb{Q}^N}[\\frac{1}{D} \\frac{P_T}{A_T}] = \\mathbb{E}_t^{\\mathbb{Q}^N} [\\frac{N_t P_T}{A_t N_T}]\n",
    "\\end{align}\n",
    "\n",
    "Tt follows that $\\frac{P_t}{N_t} = \\mathbb{E}_t^{\\mathbb{Q}^N} [\\frac{P_T}{N_T}]$ and discounted $P_t$ by $N_t$ is a martinglae under $\\mathbb{Q}^N$. "
   ]
  },
  {
   "cell_type": "markdown",
   "metadata": {},
   "source": [
    "### Pricing the European call with Heston model "
   ]
  },
  {
   "cell_type": "markdown",
   "metadata": {},
   "source": [
    "Let $c(t,T,K)$ be the price of a European call option expiring at $T$ with strike $K$ at time $t$:\n",
    "\n",
    "\\begin{align}\n",
    "C(t,T,K) =& \\mathbb{E}_t^{\\mathbb{Q}} [e^{-r(T-t)} (S_T - K)^+] = \\\\\n",
    "& \\mathbb{E}_t^{\\mathbb{Q}} [(e^{-r(T-t)} S_T \\mathbb{1}_{S_T>K} ]  - Ke^{-r(T-t)} \\mathbb{E}_t^{\\mathbb{Q}} [\\mathbb{1}_{S_T>K}]=\\\\\n",
    "& S_tE_t^{\\mathbb{Q}^s}[\\mathbb{1}_{S_T>K}] - Ke^{-r(T-t)} \\mathbb{E}_t^{\\mathbb{Q}} [\\mathbb{1}_{S_T>K}] =\\\\\n",
    "& S_t \\Pi_1 - Ke^{-r(T-t)}\\Pi_2\n =",
    "\\end{align}\n",
    "\n",
    "- $\\Pi_1 = E_t^{\\mathbb{Q}^s}[\\mathbb{1}_{S_T>K}]$ is the probability of finishing in the money under $\\mathbb{Q}^S$\n",
    "- $\\Pi_2 = \\mathbb{E}_t^{\\mathbb{Q}} [\\mathbb{1}_{S_T>K}]$ is the probability of finishing in the money under $\\mathbb{Q}$\n"
   ]
  },
  {
   "cell_type": "markdown",
   "metadata": {},
   "source": [
    "Gil-Pelaez Theorem states:\n",
    "\\begin{align}\n",
    "\\Pi & = \\mathbb{E}_t[\\mathbb{1}_{S_T>K}] = \\mathbb{E}_t[\\mathbb{1}_{\\log(S_T)>log(K)}] \\\\\n",
    "& = \\frac{1}{2} + \\frac{1}{\\pi} \\int_0^{\\infty} Re[\\frac{e^{-iu\\log(K)} \\psi_t(u)}{iu}]du,\n",
    "\\end{align}\n",
    "where $\\psi_t(u) = \\mathbb{E}_t[e^{ius_T}]$ and $s_T = \\log S_T$. \n",
    "\n",
    "Moreover, one can write the charactecteristic function of $s_T$ under $\\mathbb{Q}^S$ as follows:\n",
    "$$\\psi_t^S(u) = \\frac{\\psi_t(u-i)}{S_te^{r(T-t)}}$$\n",
    "Hence, \n",
    "\\begin{equation}\n",
    "\\Pi_1 = \\frac{1}{2} + \\frac{1}{\\pi}\\int_0^{\\infty} Re[\\frac{e^{-iu\\log(K)} \\psi_t^S(u)}{iu}] du\n",
    "\\end{equation}"
   ]
  },
  {
   "cell_type": "markdown",
   "metadata": {},
   "source": [
    "Finally, the characteristic function of $s_T = \\log(S_T)$ under $\\mathbb{Q}$:\n",
    "$$\\psi_t(u) = e^{M(T-t) + N(T-t) v_t + ius_t},$$\n",
    "where $M(\\tau)$ and $N(\\tau)$ satisfy:\n",
    "- $\\frac{dM(\\tau)}{d\\tau} = N(\\tau) \\kappa \\theta + iur$\n",
    "- $\\frac{dN(\\tau)}{d\\tau} = N(\\tau) (-\\kappa + iu\\rho \\sigma) + 0.5 N(\\tau)^2 \\sigma^2 - 0.5(u^2 + iu)$\n",
    "with boundary conditions $M(0)=0$ and $N(0) = 0$."
   ]
  },
  {
   "cell_type": "code",
   "execution_count": null,
   "metadata": {},
   "outputs": [],
   "source": []
  }
 ],
 "metadata": {
  "kernelspec": {
   "display_name": "Python 3",
   "language": "python",
   "name": "python3"
  },
  "language_info": {
   "codemirror_mode": {
    "name": "ipython",
    "version": 3
   },
   "file_extension": ".py",
   "mimetype": "text/x-python",
   "name": "python",
   "nbconvert_exporter": "python",
   "pygments_lexer": "ipython3",
   "version": "3.6.4"
  }
 },
 "nbformat": 4,
 "nbformat_minor": 2
}
