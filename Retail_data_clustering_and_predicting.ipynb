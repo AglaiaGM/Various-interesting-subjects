{
 "cells": [
  {
   "cell_type": "code",
   "execution_count": 1,
   "metadata": {},
   "outputs": [],
   "source": [
    "import sys\n",
    "if not sys.warnoptions:\n",
    "    import warnings\n",
    "    warnings.simplefilter(\"ignore\")"
   ]
  },
  {
   "cell_type": "markdown",
   "metadata": {},
   "source": [
    "## Retail data analysis\n",
    "\n",
    "This data comes from machine learning repository http://archive.ics.uci.edu/ml/datasets/Online+Retail+II\n",
    "\n",
    "What we want here to do is the following:\n",
    "- EDA\n",
    "- Cluster customers by their purchase behaviour\n",
    "- Identify customers that churned and predict customer at risk of churning"
   ]
  },
  {
   "cell_type": "code",
   "execution_count": 2,
   "metadata": {},
   "outputs": [],
   "source": [
    "#Importing necessary libraries\n",
    "import pandas as pd\n",
    "import numpy as np\n",
    "import matplotlib.pyplot as plt\n",
    "import seaborn as sns\n",
    "import re\n",
    "from sklearn.preprocessing import StandardScaler\n",
    "from sklearn.cluster import KMeans\n",
    "from sklearn.metrics import silhouette_score\n",
    "from sklearn import tree\n",
    "from sklearn.model_selection import train_test_split\n",
    "from sklearn.metrics import accuracy_score\n",
    "from sklearn.metrics import confusion_matrix\n",
    "from sklearn.ensemble import RandomForestClassifier\n",
    "from sklearn.model_selection import cross_val_predict\n",
    "from sklearn.svm import SVC\n",
    "from sklearn.linear_model import LogisticRegression\n",
    "from sklearn.metrics import roc_curve\n",
    "from sklearn.metrics import roc_auc_score"
   ]
  },
  {
   "cell_type": "markdown",
   "metadata": {},
   "source": [
    "### Attribute information"
   ]
  },
  {
   "cell_type": "markdown",
   "metadata": {},
   "source": [
    "- InvoiceNo: Invoice number. Nominal. A 6-digit integral number uniquely assigned to each transaction. If this code starts with the letter 'c', it indicates a cancellation.\n",
    "- StockCode: Product (item) code. Nominal. A 5-digit integral number uniquely assigned to each distinct product.\n",
    "- Description: Product (item) name. Nominal.\n",
    "- Quantity: The quantities of each product (item) per transaction. Numeric.\n",
    "- InvoiceDate: Invice date and time. Numeric. The day and time when a transaction was generated.\n",
    "- UnitPrice: Unit price. Numeric. Product price per unit in sterling (Â£).\n",
    "- CustomerID: Customer number. Nominal. A 5-digit integral number uniquely assigned to each customer.\n",
    "- Country: Country name. Nominal. The name of the country where a customer resides."
   ]
  },
  {
   "cell_type": "markdown",
   "metadata": {},
   "source": [
    "### Sourcing data and cleaning data"
   ]
  },
  {
   "cell_type": "markdown",
   "metadata": {},
   "source": [
    "What follows below in a few keys points:\n",
    "- Sourcing data from excel (loaded from http://archive.ics.uci.edu/ml/datasets/Online+Retail+II#)\n",
    "- Dropping missing values with respect to Customer ID (as we find that this information is essential to predict customers behaviour)\n",
    "- Dropping stock codes which do not contain 5-digit numbers as prescribed by the attribute information\n",
    "- Verifying that \"extreme\" values of prices (that is, prices that are very large with respect to the mean price) are not outliers. "
   ]
  },
  {
   "cell_type": "code",
   "execution_count": 4,
   "metadata": {},
   "outputs": [],
   "source": [
    "data1 = pd.read_excel(\"online_retail_II.xlsx\", sheet_name = \"Year 2009-2010\")\n",
    "data2 = pd.read_excel(\"online_retail_II.xlsx\", sheet_name = \"Year 2010-2011\")"
   ]
  },
  {
   "cell_type": "code",
   "execution_count": 5,
   "metadata": {},
   "outputs": [],
   "source": [
    "frames = [data1, data2]\n",
    "data = pd.concat(frames)"
   ]
  },
  {
   "cell_type": "code",
   "execution_count": 6,
   "metadata": {},
   "outputs": [],
   "source": [
    "#creating a copy of data\n",
    "df = data.copy()"
   ]
  },
  {
   "cell_type": "code",
   "execution_count": 7,
   "metadata": {},
   "outputs": [
    {
     "data": {
      "text/html": [
       "<div>\n",
       "<style scoped>\n",
       "    .dataframe tbody tr th:only-of-type {\n",
       "        vertical-align: middle;\n",
       "    }\n",
       "\n",
       "    .dataframe tbody tr th {\n",
       "        vertical-align: top;\n",
       "    }\n",
       "\n",
       "    .dataframe thead th {\n",
       "        text-align: right;\n",
       "    }\n",
       "</style>\n",
       "<table border=\"1\" class=\"dataframe\">\n",
       "  <thead>\n",
       "    <tr style=\"text-align: right;\">\n",
       "      <th></th>\n",
       "      <th>Invoice</th>\n",
       "      <th>StockCode</th>\n",
       "      <th>Description</th>\n",
       "      <th>Quantity</th>\n",
       "      <th>InvoiceDate</th>\n",
       "      <th>Price</th>\n",
       "      <th>Customer ID</th>\n",
       "      <th>Country</th>\n",
       "    </tr>\n",
       "  </thead>\n",
       "  <tbody>\n",
       "    <tr>\n",
       "      <th>0</th>\n",
       "      <td>489434</td>\n",
       "      <td>85048</td>\n",
       "      <td>15CM CHRISTMAS GLASS BALL 20 LIGHTS</td>\n",
       "      <td>12</td>\n",
       "      <td>2009-12-01 07:45:00</td>\n",
       "      <td>6.95</td>\n",
       "      <td>13085.0</td>\n",
       "      <td>United Kingdom</td>\n",
       "    </tr>\n",
       "    <tr>\n",
       "      <th>1</th>\n",
       "      <td>489434</td>\n",
       "      <td>79323P</td>\n",
       "      <td>PINK CHERRY LIGHTS</td>\n",
       "      <td>12</td>\n",
       "      <td>2009-12-01 07:45:00</td>\n",
       "      <td>6.75</td>\n",
       "      <td>13085.0</td>\n",
       "      <td>United Kingdom</td>\n",
       "    </tr>\n",
       "    <tr>\n",
       "      <th>2</th>\n",
       "      <td>489434</td>\n",
       "      <td>79323W</td>\n",
       "      <td>WHITE CHERRY LIGHTS</td>\n",
       "      <td>12</td>\n",
       "      <td>2009-12-01 07:45:00</td>\n",
       "      <td>6.75</td>\n",
       "      <td>13085.0</td>\n",
       "      <td>United Kingdom</td>\n",
       "    </tr>\n",
       "    <tr>\n",
       "      <th>3</th>\n",
       "      <td>489434</td>\n",
       "      <td>22041</td>\n",
       "      <td>RECORD FRAME 7\" SINGLE SIZE</td>\n",
       "      <td>48</td>\n",
       "      <td>2009-12-01 07:45:00</td>\n",
       "      <td>2.10</td>\n",
       "      <td>13085.0</td>\n",
       "      <td>United Kingdom</td>\n",
       "    </tr>\n",
       "    <tr>\n",
       "      <th>4</th>\n",
       "      <td>489434</td>\n",
       "      <td>21232</td>\n",
       "      <td>STRAWBERRY CERAMIC TRINKET BOX</td>\n",
       "      <td>24</td>\n",
       "      <td>2009-12-01 07:45:00</td>\n",
       "      <td>1.25</td>\n",
       "      <td>13085.0</td>\n",
       "      <td>United Kingdom</td>\n",
       "    </tr>\n",
       "    <tr>\n",
       "      <th>5</th>\n",
       "      <td>489434</td>\n",
       "      <td>22064</td>\n",
       "      <td>PINK DOUGHNUT TRINKET POT</td>\n",
       "      <td>24</td>\n",
       "      <td>2009-12-01 07:45:00</td>\n",
       "      <td>1.65</td>\n",
       "      <td>13085.0</td>\n",
       "      <td>United Kingdom</td>\n",
       "    </tr>\n",
       "    <tr>\n",
       "      <th>6</th>\n",
       "      <td>489434</td>\n",
       "      <td>21871</td>\n",
       "      <td>SAVE THE PLANET MUG</td>\n",
       "      <td>24</td>\n",
       "      <td>2009-12-01 07:45:00</td>\n",
       "      <td>1.25</td>\n",
       "      <td>13085.0</td>\n",
       "      <td>United Kingdom</td>\n",
       "    </tr>\n",
       "    <tr>\n",
       "      <th>7</th>\n",
       "      <td>489434</td>\n",
       "      <td>21523</td>\n",
       "      <td>FANCY FONT HOME SWEET HOME DOORMAT</td>\n",
       "      <td>10</td>\n",
       "      <td>2009-12-01 07:45:00</td>\n",
       "      <td>5.95</td>\n",
       "      <td>13085.0</td>\n",
       "      <td>United Kingdom</td>\n",
       "    </tr>\n",
       "    <tr>\n",
       "      <th>8</th>\n",
       "      <td>489435</td>\n",
       "      <td>22350</td>\n",
       "      <td>CAT BOWL</td>\n",
       "      <td>12</td>\n",
       "      <td>2009-12-01 07:46:00</td>\n",
       "      <td>2.55</td>\n",
       "      <td>13085.0</td>\n",
       "      <td>United Kingdom</td>\n",
       "    </tr>\n",
       "    <tr>\n",
       "      <th>9</th>\n",
       "      <td>489435</td>\n",
       "      <td>22349</td>\n",
       "      <td>DOG BOWL , CHASING BALL DESIGN</td>\n",
       "      <td>12</td>\n",
       "      <td>2009-12-01 07:46:00</td>\n",
       "      <td>3.75</td>\n",
       "      <td>13085.0</td>\n",
       "      <td>United Kingdom</td>\n",
       "    </tr>\n",
       "  </tbody>\n",
       "</table>\n",
       "</div>"
      ],
      "text/plain": [
       "  Invoice StockCode                          Description  Quantity  \\\n",
       "0  489434     85048  15CM CHRISTMAS GLASS BALL 20 LIGHTS        12   \n",
       "1  489434    79323P                   PINK CHERRY LIGHTS        12   \n",
       "2  489434    79323W                  WHITE CHERRY LIGHTS        12   \n",
       "3  489434     22041         RECORD FRAME 7\" SINGLE SIZE         48   \n",
       "4  489434     21232       STRAWBERRY CERAMIC TRINKET BOX        24   \n",
       "5  489434     22064           PINK DOUGHNUT TRINKET POT         24   \n",
       "6  489434     21871                  SAVE THE PLANET MUG        24   \n",
       "7  489434     21523   FANCY FONT HOME SWEET HOME DOORMAT        10   \n",
       "8  489435     22350                            CAT BOWL         12   \n",
       "9  489435     22349       DOG BOWL , CHASING BALL DESIGN        12   \n",
       "\n",
       "          InvoiceDate  Price  Customer ID         Country  \n",
       "0 2009-12-01 07:45:00   6.95      13085.0  United Kingdom  \n",
       "1 2009-12-01 07:45:00   6.75      13085.0  United Kingdom  \n",
       "2 2009-12-01 07:45:00   6.75      13085.0  United Kingdom  \n",
       "3 2009-12-01 07:45:00   2.10      13085.0  United Kingdom  \n",
       "4 2009-12-01 07:45:00   1.25      13085.0  United Kingdom  \n",
       "5 2009-12-01 07:45:00   1.65      13085.0  United Kingdom  \n",
       "6 2009-12-01 07:45:00   1.25      13085.0  United Kingdom  \n",
       "7 2009-12-01 07:45:00   5.95      13085.0  United Kingdom  \n",
       "8 2009-12-01 07:46:00   2.55      13085.0  United Kingdom  \n",
       "9 2009-12-01 07:46:00   3.75      13085.0  United Kingdom  "
      ]
     },
     "execution_count": 7,
     "metadata": {},
     "output_type": "execute_result"
    }
   ],
   "source": [
    "#we look at how the data looks like\n",
    "df.head(10)"
   ]
  },
  {
   "cell_type": "code",
   "execution_count": 8,
   "metadata": {},
   "outputs": [
    {
     "name": "stdout",
     "output_type": "stream",
     "text": [
      "<class 'pandas.core.frame.DataFrame'>\n",
      "Int64Index: 1067371 entries, 0 to 541909\n",
      "Data columns (total 8 columns):\n",
      " #   Column       Non-Null Count    Dtype         \n",
      "---  ------       --------------    -----         \n",
      " 0   Invoice      1067371 non-null  object        \n",
      " 1   StockCode    1067371 non-null  object        \n",
      " 2   Description  1062989 non-null  object        \n",
      " 3   Quantity     1067371 non-null  int64         \n",
      " 4   InvoiceDate  1067371 non-null  datetime64[ns]\n",
      " 5   Price        1067371 non-null  float64       \n",
      " 6   Customer ID  824364 non-null   float64       \n",
      " 7   Country      1067371 non-null  object        \n",
      "dtypes: datetime64[ns](1), float64(2), int64(1), object(4)\n",
      "memory usage: 73.3+ MB\n"
     ]
    }
   ],
   "source": [
    "#let us look at the brief information on this data set\n",
    "df.info()"
   ]
  },
  {
   "cell_type": "markdown",
   "metadata": {},
   "source": [
    "We have the following observations:\n",
    "- There are 1067371 rows in the data set, and only 824364 rows are available for Customer ID. To predict customers beahviour, we prefer to drop the instances with missing Customer ID. \n",
    "- We consider Customer ID, Country, StockCode and Invoice to be categorical variables. We will transform the corresponding columns into string and categorical variables. "
   ]
  },
  {
   "cell_type": "code",
   "execution_count": 9,
   "metadata": {},
   "outputs": [
    {
     "data": {
      "text/plain": [
       "Invoice             0\n",
       "StockCode           0\n",
       "Description      4382\n",
       "Quantity            0\n",
       "InvoiceDate         0\n",
       "Price               0\n",
       "Customer ID    243007\n",
       "Country             0\n",
       "dtype: int64"
      ]
     },
     "execution_count": 9,
     "metadata": {},
     "output_type": "execute_result"
    }
   ],
   "source": [
    "#checking that no missing values are present \n",
    "df.isnull().sum()"
   ]
  },
  {
   "cell_type": "code",
   "execution_count": 10,
   "metadata": {},
   "outputs": [
    {
     "data": {
      "text/plain": [
       "United Kingdom     981330\n",
       "EIRE                17866\n",
       "Germany             17624\n",
       "France              14330\n",
       "Netherlands          5140\n",
       "Spain                3811\n",
       "Switzerland          3189\n",
       "Belgium              3123\n",
       "Portugal             2620\n",
       "Australia            1913\n",
       "Channel Islands      1664\n",
       "Italy                1534\n",
       "Norway               1455\n",
       "Sweden               1364\n",
       "Cyprus               1176\n",
       "Name: Country, dtype: int64"
      ]
     },
     "execution_count": 10,
     "metadata": {},
     "output_type": "execute_result"
    }
   ],
   "source": [
    "#investigating Country variable\n",
    "df.Country.value_counts().head(15)\n",
    "#We note that there is an \"Unspecified\" country listed among others"
   ]
  },
  {
   "cell_type": "markdown",
   "metadata": {},
   "source": [
    "### Cleaning function"
   ]
  },
  {
   "cell_type": "code",
   "execution_count": 12,
   "metadata": {},
   "outputs": [],
   "source": [
    "def cleaning(df):\n",
    "    df.dropna(subset = ['Customer ID'], inplace = True)\n",
    "    #convering certain columns in categorical variables\n",
    "    df['Customer ID'] = df['Customer ID'].astype('str').astype('category')\n",
    "    df['Country'] = df['Country'].astype('category')\n",
    "    df['StockCode'] = df['StockCode'].astype('str')\n",
    "    df['Invoice'] = df['Invoice'].astype('str').astype('category')\n",
    "    \n",
    "    #The attribute description says that stock code should be a 5-digit integral number\n",
    "    #Hence, we drop all instances which do not satisfy this condition using regular expression\n",
    "    col = df.StockCode.map(lambda x: str(x)).map(lambda x: bool(re.match(\"\\d\\d\\d\\d\\d\", x)))\n",
    "    \n",
    "    df = df[col]\n",
    "    #finally, we drop duplicates in our data frame \n",
    "    df.drop_duplicates(inplace = True)\n",
    "    \n",
    "    return df"
   ]
  },
  {
   "cell_type": "code",
   "execution_count": 13,
   "metadata": {},
   "outputs": [],
   "source": [
    "#we clean our data frame\n",
    "df = cleaning(df)"
   ]
  },
  {
   "cell_type": "code",
   "execution_count": 14,
   "metadata": {},
   "outputs": [
    {
     "data": {
      "text/plain": [
       "Invoice        0\n",
       "StockCode      0\n",
       "Description    0\n",
       "Quantity       0\n",
       "InvoiceDate    0\n",
       "Price          0\n",
       "Customer ID    0\n",
       "Country        0\n",
       "dtype: int64"
      ]
     },
     "execution_count": 14,
     "metadata": {},
     "output_type": "execute_result"
    }
   ],
   "source": [
    "#no missing values anyore!\n",
    "df.isnull().sum()"
   ]
  },
  {
   "cell_type": "code",
   "execution_count": 15,
   "metadata": {},
   "outputs": [
    {
     "data": {
      "text/plain": [
       "(794223, 8)"
      ]
     },
     "execution_count": 15,
     "metadata": {},
     "output_type": "execute_result"
    }
   ],
   "source": [
    "df.shape\n",
    "#we still have a good amount of data"
   ]
  },
  {
   "cell_type": "code",
   "execution_count": 16,
   "metadata": {},
   "outputs": [
    {
     "data": {
      "text/html": [
       "<div>\n",
       "<style scoped>\n",
       "    .dataframe tbody tr th:only-of-type {\n",
       "        vertical-align: middle;\n",
       "    }\n",
       "\n",
       "    .dataframe tbody tr th {\n",
       "        vertical-align: top;\n",
       "    }\n",
       "\n",
       "    .dataframe thead th {\n",
       "        text-align: right;\n",
       "    }\n",
       "</style>\n",
       "<table border=\"1\" class=\"dataframe\">\n",
       "  <thead>\n",
       "    <tr style=\"text-align: right;\">\n",
       "      <th></th>\n",
       "      <th>Quantity</th>\n",
       "      <th>Price</th>\n",
       "    </tr>\n",
       "  </thead>\n",
       "  <tbody>\n",
       "    <tr>\n",
       "      <th>count</th>\n",
       "      <td>794223.000000</td>\n",
       "      <td>794223.000000</td>\n",
       "    </tr>\n",
       "    <tr>\n",
       "      <th>mean</th>\n",
       "      <td>12.652839</td>\n",
       "      <td>2.971190</td>\n",
       "    </tr>\n",
       "    <tr>\n",
       "      <th>std</th>\n",
       "      <td>192.078928</td>\n",
       "      <td>4.474925</td>\n",
       "    </tr>\n",
       "    <tr>\n",
       "      <th>min</th>\n",
       "      <td>-80995.000000</td>\n",
       "      <td>0.000000</td>\n",
       "    </tr>\n",
       "    <tr>\n",
       "      <th>25%</th>\n",
       "      <td>2.000000</td>\n",
       "      <td>1.250000</td>\n",
       "    </tr>\n",
       "    <tr>\n",
       "      <th>50%</th>\n",
       "      <td>5.000000</td>\n",
       "      <td>1.950000</td>\n",
       "    </tr>\n",
       "    <tr>\n",
       "      <th>75%</th>\n",
       "      <td>12.000000</td>\n",
       "      <td>3.750000</td>\n",
       "    </tr>\n",
       "    <tr>\n",
       "      <th>max</th>\n",
       "      <td>80995.000000</td>\n",
       "      <td>649.500000</td>\n",
       "    </tr>\n",
       "  </tbody>\n",
       "</table>\n",
       "</div>"
      ],
      "text/plain": [
       "            Quantity          Price\n",
       "count  794223.000000  794223.000000\n",
       "mean       12.652839       2.971190\n",
       "std       192.078928       4.474925\n",
       "min    -80995.000000       0.000000\n",
       "25%         2.000000       1.250000\n",
       "50%         5.000000       1.950000\n",
       "75%        12.000000       3.750000\n",
       "max     80995.000000     649.500000"
      ]
     },
     "execution_count": 16,
     "metadata": {},
     "output_type": "execute_result"
    }
   ],
   "source": [
    "#for further cleaning of the data, we will take a look at the summary statistics\n",
    "df.describe()"
   ]
  },
  {
   "cell_type": "markdown",
   "metadata": {},
   "source": [
    "We see that there is a large deviation from the maximum price from the mean (much larger than 3 deviations from it). Let us take a look at this data to confirm that these values make sense"
   ]
  },
  {
   "cell_type": "code",
   "execution_count": 17,
   "metadata": {},
   "outputs": [
    {
     "data": {
      "text/html": [
       "<div>\n",
       "<style scoped>\n",
       "    .dataframe tbody tr th:only-of-type {\n",
       "        vertical-align: middle;\n",
       "    }\n",
       "\n",
       "    .dataframe tbody tr th {\n",
       "        vertical-align: top;\n",
       "    }\n",
       "\n",
       "    .dataframe thead th {\n",
       "        text-align: right;\n",
       "    }\n",
       "</style>\n",
       "<table border=\"1\" class=\"dataframe\">\n",
       "  <thead>\n",
       "    <tr style=\"text-align: right;\">\n",
       "      <th></th>\n",
       "      <th>Invoice</th>\n",
       "      <th>StockCode</th>\n",
       "      <th>Description</th>\n",
       "      <th>Quantity</th>\n",
       "      <th>InvoiceDate</th>\n",
       "      <th>Price</th>\n",
       "      <th>Customer ID</th>\n",
       "      <th>Country</th>\n",
       "    </tr>\n",
       "  </thead>\n",
       "  <tbody>\n",
       "    <tr>\n",
       "      <th>61549</th>\n",
       "      <td>541426</td>\n",
       "      <td>22823</td>\n",
       "      <td>CHEST NATURAL WOOD 20 DRAWERS</td>\n",
       "      <td>4</td>\n",
       "      <td>2011-01-18 08:44:00</td>\n",
       "      <td>110.0</td>\n",
       "      <td>18233.0</td>\n",
       "      <td>United Kingdom</td>\n",
       "    </tr>\n",
       "    <tr>\n",
       "      <th>482787</th>\n",
       "      <td>534657</td>\n",
       "      <td>22823</td>\n",
       "      <td>CHEST NATURAL WOOD 20 DRAWERS</td>\n",
       "      <td>2</td>\n",
       "      <td>2010-11-23 13:36:00</td>\n",
       "      <td>110.0</td>\n",
       "      <td>14252.0</td>\n",
       "      <td>United Kingdom</td>\n",
       "    </tr>\n",
       "    <tr>\n",
       "      <th>66293</th>\n",
       "      <td>541789</td>\n",
       "      <td>22823</td>\n",
       "      <td>CHEST NATURAL WOOD 20 DRAWERS</td>\n",
       "      <td>3</td>\n",
       "      <td>2011-01-21 13:07:00</td>\n",
       "      <td>110.0</td>\n",
       "      <td>14088.0</td>\n",
       "      <td>United Kingdom</td>\n",
       "    </tr>\n",
       "    <tr>\n",
       "      <th>414573</th>\n",
       "      <td>528970</td>\n",
       "      <td>22823</td>\n",
       "      <td>CHEST NATURAL WOOD 20 DRAWERS</td>\n",
       "      <td>2</td>\n",
       "      <td>2010-10-26 10:24:00</td>\n",
       "      <td>110.0</td>\n",
       "      <td>14298.0</td>\n",
       "      <td>United Kingdom</td>\n",
       "    </tr>\n",
       "    <tr>\n",
       "      <th>332640</th>\n",
       "      <td>521911</td>\n",
       "      <td>21760</td>\n",
       "      <td>FRENCH STYLE WALL DRESSER</td>\n",
       "      <td>2</td>\n",
       "      <td>2010-09-09 13:20:00</td>\n",
       "      <td>110.0</td>\n",
       "      <td>15972.0</td>\n",
       "      <td>United Kingdom</td>\n",
       "    </tr>\n",
       "    <tr>\n",
       "      <th>...</th>\n",
       "      <td>...</td>\n",
       "      <td>...</td>\n",
       "      <td>...</td>\n",
       "      <td>...</td>\n",
       "      <td>...</td>\n",
       "      <td>...</td>\n",
       "      <td>...</td>\n",
       "      <td>...</td>\n",
       "    </tr>\n",
       "    <tr>\n",
       "      <th>283393</th>\n",
       "      <td>516949</td>\n",
       "      <td>22656</td>\n",
       "      <td>VINTAGE BLUE KITCHEN CABINET</td>\n",
       "      <td>1</td>\n",
       "      <td>2010-07-25 15:32:00</td>\n",
       "      <td>295.0</td>\n",
       "      <td>16556.0</td>\n",
       "      <td>United Kingdom</td>\n",
       "    </tr>\n",
       "    <tr>\n",
       "      <th>282682</th>\n",
       "      <td>516913</td>\n",
       "      <td>22656</td>\n",
       "      <td>VINTAGE BLUE KITCHEN CABINET</td>\n",
       "      <td>1</td>\n",
       "      <td>2010-07-25 11:07:00</td>\n",
       "      <td>295.0</td>\n",
       "      <td>13875.0</td>\n",
       "      <td>United Kingdom</td>\n",
       "    </tr>\n",
       "    <tr>\n",
       "      <th>279619</th>\n",
       "      <td>516610</td>\n",
       "      <td>22655</td>\n",
       "      <td>VINTAGE RED KITCHEN CABINET</td>\n",
       "      <td>1</td>\n",
       "      <td>2010-07-21 14:41:00</td>\n",
       "      <td>295.0</td>\n",
       "      <td>13615.0</td>\n",
       "      <td>United Kingdom</td>\n",
       "    </tr>\n",
       "    <tr>\n",
       "      <th>222682</th>\n",
       "      <td>556446</td>\n",
       "      <td>22502</td>\n",
       "      <td>PICNIC BASKET WICKER 60 PIECES</td>\n",
       "      <td>1</td>\n",
       "      <td>2011-06-10 15:33:00</td>\n",
       "      <td>649.5</td>\n",
       "      <td>15098.0</td>\n",
       "      <td>United Kingdom</td>\n",
       "    </tr>\n",
       "    <tr>\n",
       "      <th>222671</th>\n",
       "      <td>556444</td>\n",
       "      <td>22502</td>\n",
       "      <td>PICNIC BASKET WICKER 60 PIECES</td>\n",
       "      <td>60</td>\n",
       "      <td>2011-06-10 15:28:00</td>\n",
       "      <td>649.5</td>\n",
       "      <td>15098.0</td>\n",
       "      <td>United Kingdom</td>\n",
       "    </tr>\n",
       "  </tbody>\n",
       "</table>\n",
       "<p>208 rows × 8 columns</p>\n",
       "</div>"
      ],
      "text/plain": [
       "       Invoice StockCode                     Description  Quantity  \\\n",
       "61549   541426     22823   CHEST NATURAL WOOD 20 DRAWERS         4   \n",
       "482787  534657     22823   CHEST NATURAL WOOD 20 DRAWERS         2   \n",
       "66293   541789     22823   CHEST NATURAL WOOD 20 DRAWERS         3   \n",
       "414573  528970     22823   CHEST NATURAL WOOD 20 DRAWERS         2   \n",
       "332640  521911     21760       FRENCH STYLE WALL DRESSER         2   \n",
       "...        ...       ...                             ...       ...   \n",
       "283393  516949     22656    VINTAGE BLUE KITCHEN CABINET         1   \n",
       "282682  516913     22656    VINTAGE BLUE KITCHEN CABINET         1   \n",
       "279619  516610     22655     VINTAGE RED KITCHEN CABINET         1   \n",
       "222682  556446     22502  PICNIC BASKET WICKER 60 PIECES         1   \n",
       "222671  556444     22502  PICNIC BASKET WICKER 60 PIECES        60   \n",
       "\n",
       "               InvoiceDate  Price Customer ID         Country  \n",
       "61549  2011-01-18 08:44:00  110.0     18233.0  United Kingdom  \n",
       "482787 2010-11-23 13:36:00  110.0     14252.0  United Kingdom  \n",
       "66293  2011-01-21 13:07:00  110.0     14088.0  United Kingdom  \n",
       "414573 2010-10-26 10:24:00  110.0     14298.0  United Kingdom  \n",
       "332640 2010-09-09 13:20:00  110.0     15972.0  United Kingdom  \n",
       "...                    ...    ...         ...             ...  \n",
       "283393 2010-07-25 15:32:00  295.0     16556.0  United Kingdom  \n",
       "282682 2010-07-25 11:07:00  295.0     13875.0  United Kingdom  \n",
       "279619 2010-07-21 14:41:00  295.0     13615.0  United Kingdom  \n",
       "222682 2011-06-10 15:33:00  649.5     15098.0  United Kingdom  \n",
       "222671 2011-06-10 15:28:00  649.5     15098.0  United Kingdom  \n",
       "\n",
       "[208 rows x 8 columns]"
      ]
     },
     "execution_count": 17,
     "metadata": {},
     "output_type": "execute_result"
    }
   ],
   "source": [
    "df[df.Price>100].sort_values('Price')"
   ]
  },
  {
   "cell_type": "markdown",
   "metadata": {},
   "source": [
    "Larger prices seem to be reasonable: indeed, a drawer can be priced at 110 USD and more expensive items such as vintage cabinet can be prices at 295 USD. A picnic basket seems to be quite expensive (649 USD), however we looked on Amazon and such prices do exist for picnic baskets. "
   ]
  },
  {
   "cell_type": "markdown",
   "metadata": {},
   "source": [
    "## Exploratory Data Analysis"
   ]
  },
  {
   "cell_type": "markdown",
   "metadata": {},
   "source": [
    "In what follows, we make the following observations:\n",
    "- Largest spenders in terms of Quantity and Price are: the UK, Netherlands, EIRE, Denmark, Germany and France\n",
    "- Customers usually buy (and cancel) a lot if the price of an item is small, and buy (and cancel) much less frequently if the price of an item is large. \n",
    "- September to November are the largest sales months! It might be due to Black Friday, Halloween, Thanksgiving and upcoming Christmas holidays. \n",
    "- The most popular products in terms of quantity bought are: WORLD WAR 2 GLIDERS ASSTD DESIGNS, WHITE HANGING HEART T-LIGHT HOLDER, ASSORTED COLOUR BIRD ORNAMENT, JUMBO BAG RED RETROSPOT, BROCADE RING PURSE among others.\n",
    "- The most profitable products in terms of accumulated profit are REGENCY CAKESTAND 3 TIER, DOTCOM POSTAGE, WHITE HANGING HEART T-LIGHT HOLDER, JUMBO BAG RED RETROSPOT, PARTY BUNTING among others. "
   ]
  },
  {
   "cell_type": "markdown",
   "metadata": {},
   "source": [
    "##### Accumulated quantity and profit per country and customer"
   ]
  },
  {
   "cell_type": "markdown",
   "metadata": {},
   "source": [
    "Above we noted that Quantity column can take positive and negative values. Negative values are attributed to the cancellations. "
   ]
  },
  {
   "cell_type": "code",
   "execution_count": 18,
   "metadata": {},
   "outputs": [],
   "source": [
    "#Let us take a look at which countires are the largest spenders\n",
    "#below we see the largest spenders (in terms of Quantity) \n",
    "quantity_per_country = df.groupby('Country')['Quantity'].sum().sort_values(ascending = False)"
   ]
  },
  {
   "cell_type": "code",
   "execution_count": 19,
   "metadata": {},
   "outputs": [
    {
     "data": {
      "text/plain": [
       "Country\n",
       "United Kingdom     8192501\n",
       "Netherlands         382101\n",
       "EIRE                309531\n",
       "Denmark             234702\n",
       "Germany             219803\n",
       "France              178695\n",
       "Australia           103372\n",
       "Sweden               87637\n",
       "Switzerland          51579\n",
       "Spain                44367\n",
       "Belgium              34198\n",
       "Japan                30143\n",
       "Portugal             26896\n",
       "Norway               23470\n",
       "Channel Islands      20384\n",
       "Name: Quantity, dtype: int64"
      ]
     },
     "execution_count": 19,
     "metadata": {},
     "output_type": "execute_result"
    }
   ],
   "source": [
    "quantity_per_country.head(15)\n",
    "#We see that the largest spenders in terms of Quantity are the UK, Netherlands, EIRE, Denmark and Germany, France and Australia."
   ]
  },
  {
   "cell_type": "code",
   "execution_count": 20,
   "metadata": {},
   "outputs": [
    {
     "data": {
      "image/png": "[encoded data removed]",
      "text/plain": [
       "<Figure size 432x288 with 1 Axes>"
      ]
     },
     "metadata": {
      "needs_background": "light"
     },
     "output_type": "display_data"
    }
   ],
   "source": [
    "g = sns.barplot(x=quantity_per_country.index, y=quantity_per_country)\n",
    "plt.xticks(rotation=90)\n",
    "plt.show()"
   ]
  },
  {
   "cell_type": "code",
   "execution_count": 21,
   "metadata": {},
   "outputs": [
    {
     "data": {
      "text/html": [
       "<div>\n",
       "<style scoped>\n",
       "    .dataframe tbody tr th:only-of-type {\n",
       "        vertical-align: middle;\n",
       "    }\n",
       "\n",
       "    .dataframe tbody tr th {\n",
       "        vertical-align: top;\n",
       "    }\n",
       "\n",
       "    .dataframe thead th {\n",
       "        text-align: right;\n",
       "    }\n",
       "</style>\n",
       "<table border=\"1\" class=\"dataframe\">\n",
       "  <thead>\n",
       "    <tr style=\"text-align: right;\">\n",
       "      <th></th>\n",
       "      <th>Price</th>\n",
       "    </tr>\n",
       "    <tr>\n",
       "      <th>Country</th>\n",
       "      <th></th>\n",
       "    </tr>\n",
       "  </thead>\n",
       "  <tbody>\n",
       "    <tr>\n",
       "      <th>United Kingdom</th>\n",
       "      <td>2.123222e+06</td>\n",
       "    </tr>\n",
       "    <tr>\n",
       "      <th>EIRE</th>\n",
       "      <td>5.481818e+04</td>\n",
       "    </tr>\n",
       "    <tr>\n",
       "      <th>Germany</th>\n",
       "      <td>4.614110e+04</td>\n",
       "    </tr>\n",
       "    <tr>\n",
       "      <th>France</th>\n",
       "      <td>3.512446e+04</td>\n",
       "    </tr>\n",
       "    <tr>\n",
       "      <th>Netherlands</th>\n",
       "      <td>1.193902e+04</td>\n",
       "    </tr>\n",
       "    <tr>\n",
       "      <th>Spain</th>\n",
       "      <td>1.130111e+04</td>\n",
       "    </tr>\n",
       "    <tr>\n",
       "      <th>Belgium</th>\n",
       "      <td>9.031920e+03</td>\n",
       "    </tr>\n",
       "    <tr>\n",
       "      <th>Switzerland</th>\n",
       "      <td>8.790340e+03</td>\n",
       "    </tr>\n",
       "    <tr>\n",
       "      <th>Channel Islands</th>\n",
       "      <td>6.946880e+03</td>\n",
       "    </tr>\n",
       "    <tr>\n",
       "      <th>Portugal</th>\n",
       "      <td>6.295050e+03</td>\n",
       "    </tr>\n",
       "    <tr>\n",
       "      <th>Cyprus</th>\n",
       "      <td>5.583540e+03</td>\n",
       "    </tr>\n",
       "    <tr>\n",
       "      <th>Italy</th>\n",
       "      <td>5.418620e+03</td>\n",
       "    </tr>\n",
       "    <tr>\n",
       "      <th>Australia</th>\n",
       "      <td>5.203980e+03</td>\n",
       "    </tr>\n",
       "    <tr>\n",
       "      <th>Norway</th>\n",
       "      <td>3.999030e+03</td>\n",
       "    </tr>\n",
       "    <tr>\n",
       "      <th>Finland</th>\n",
       "      <td>2.898120e+03</td>\n",
       "    </tr>\n",
       "  </tbody>\n",
       "</table>\n",
       "</div>"
      ],
      "text/plain": [
       "                        Price\n",
       "Country                      \n",
       "United Kingdom   2.123222e+06\n",
       "EIRE             5.481818e+04\n",
       "Germany          4.614110e+04\n",
       "France           3.512446e+04\n",
       "Netherlands      1.193902e+04\n",
       "Spain            1.130111e+04\n",
       "Belgium          9.031920e+03\n",
       "Switzerland      8.790340e+03\n",
       "Channel Islands  6.946880e+03\n",
       "Portugal         6.295050e+03\n",
       "Cyprus           5.583540e+03\n",
       "Italy            5.418620e+03\n",
       "Australia        5.203980e+03\n",
       "Norway           3.999030e+03\n",
       "Finland          2.898120e+03"
      ]
     },
     "execution_count": 21,
     "metadata": {},
     "output_type": "execute_result"
    }
   ],
   "source": [
    "#Let us take a look at which countires are the largest spenders\n",
    "#below we see the largest spenders (in terms of Quantity) \n",
    "price_per_country = df.groupby('Country')[['Price']].sum().sort_values(by = 'Price', ascending = False).head(15)\n",
    "price_per_country\n",
    "#We see that the largest spenders in terms of Quantity are the UK, EIRE, Germany, France, Netherlands, Spain, Belgium."
   ]
  },
  {
   "cell_type": "code",
   "execution_count": 22,
   "metadata": {},
   "outputs": [
    {
     "data": {
      "text/plain": [
       "Customer ID\n",
       "14911.0    39372.54\n",
       "17841.0    34438.14\n",
       "14096.0    21426.09\n",
       "14606.0    18258.11\n",
       "12748.0    15988.18\n",
       "14527.0    14138.36\n",
       "14156.0    13949.96\n",
       "15311.0    12329.74\n",
       "13089.0     9276.00\n",
       "14646.0     9208.11\n",
       "Name: Price, dtype: float64"
      ]
     },
     "execution_count": 22,
     "metadata": {},
     "output_type": "execute_result"
    }
   ],
   "source": [
    "#We will also find out largest spenders by customer \n",
    "quantity_per_cust = df.groupby('Customer ID')['Price'].sum().sort_values(ascending = False)\n",
    "quantity_per_cust.head(10)"
   ]
  },
  {
   "cell_type": "markdown",
   "metadata": {},
   "source": [
    "##### Trend in customers behaviour: buy a lot of cheap products"
   ]
  },
  {
   "cell_type": "markdown",
   "metadata": {},
   "source": [
    "Plot below represents the dependency of Price and Quantity. We see that customers buy (or cancel) a lot (large Quantity) if the Price of a product is low. On the other hand, it seems that customers buy (and cancel) very little when the Price goes up."
   ]
  },
  {
   "cell_type": "code",
   "execution_count": 23,
   "metadata": {},
   "outputs": [
    {
     "data": {
      "image/png": "[encoded data removed]",
      "text/plain": [
       "<Figure size 432x288 with 1 Axes>"
      ]
     },
     "metadata": {
      "needs_background": "light"
     },
     "output_type": "display_data"
    }
   ],
   "source": [
    "df.plot(kind = 'scatter', x = 'Price', y = 'Quantity', alpha = 0.1)\n",
    "plt.show()"
   ]
  },
  {
   "cell_type": "markdown",
   "metadata": {},
   "source": [
    "##### Seasonality"
   ]
  },
  {
   "cell_type": "code",
   "execution_count": 24,
   "metadata": {},
   "outputs": [
    {
     "data": {
      "text/html": [
       "<div>\n",
       "<style scoped>\n",
       "    .dataframe tbody tr th:only-of-type {\n",
       "        vertical-align: middle;\n",
       "    }\n",
       "\n",
       "    .dataframe tbody tr th {\n",
       "        vertical-align: top;\n",
       "    }\n",
       "\n",
       "    .dataframe thead th {\n",
       "        text-align: right;\n",
       "    }\n",
       "</style>\n",
       "<table border=\"1\" class=\"dataframe\">\n",
       "  <thead>\n",
       "    <tr style=\"text-align: right;\">\n",
       "      <th></th>\n",
       "      <th>Invoice</th>\n",
       "      <th>StockCode</th>\n",
       "      <th>Description</th>\n",
       "      <th>Quantity</th>\n",
       "      <th>InvoiceDate</th>\n",
       "      <th>Price</th>\n",
       "      <th>Customer ID</th>\n",
       "      <th>Country</th>\n",
       "      <th>Month</th>\n",
       "    </tr>\n",
       "  </thead>\n",
       "  <tbody>\n",
       "    <tr>\n",
       "      <th>0</th>\n",
       "      <td>489434</td>\n",
       "      <td>85048</td>\n",
       "      <td>15CM CHRISTMAS GLASS BALL 20 LIGHTS</td>\n",
       "      <td>12</td>\n",
       "      <td>2009-12-01 07:45:00</td>\n",
       "      <td>6.95</td>\n",
       "      <td>13085.0</td>\n",
       "      <td>United Kingdom</td>\n",
       "      <td>12</td>\n",
       "    </tr>\n",
       "    <tr>\n",
       "      <th>1</th>\n",
       "      <td>489434</td>\n",
       "      <td>79323P</td>\n",
       "      <td>PINK CHERRY LIGHTS</td>\n",
       "      <td>12</td>\n",
       "      <td>2009-12-01 07:45:00</td>\n",
       "      <td>6.75</td>\n",
       "      <td>13085.0</td>\n",
       "      <td>United Kingdom</td>\n",
       "      <td>12</td>\n",
       "    </tr>\n",
       "    <tr>\n",
       "      <th>2</th>\n",
       "      <td>489434</td>\n",
       "      <td>79323W</td>\n",
       "      <td>WHITE CHERRY LIGHTS</td>\n",
       "      <td>12</td>\n",
       "      <td>2009-12-01 07:45:00</td>\n",
       "      <td>6.75</td>\n",
       "      <td>13085.0</td>\n",
       "      <td>United Kingdom</td>\n",
       "      <td>12</td>\n",
       "    </tr>\n",
       "    <tr>\n",
       "      <th>3</th>\n",
       "      <td>489434</td>\n",
       "      <td>22041</td>\n",
       "      <td>RECORD FRAME 7\" SINGLE SIZE</td>\n",
       "      <td>48</td>\n",
       "      <td>2009-12-01 07:45:00</td>\n",
       "      <td>2.10</td>\n",
       "      <td>13085.0</td>\n",
       "      <td>United Kingdom</td>\n",
       "      <td>12</td>\n",
       "    </tr>\n",
       "    <tr>\n",
       "      <th>4</th>\n",
       "      <td>489434</td>\n",
       "      <td>21232</td>\n",
       "      <td>STRAWBERRY CERAMIC TRINKET BOX</td>\n",
       "      <td>24</td>\n",
       "      <td>2009-12-01 07:45:00</td>\n",
       "      <td>1.25</td>\n",
       "      <td>13085.0</td>\n",
       "      <td>United Kingdom</td>\n",
       "      <td>12</td>\n",
       "    </tr>\n",
       "  </tbody>\n",
       "</table>\n",
       "</div>"
      ],
      "text/plain": [
       "  Invoice StockCode                          Description  Quantity  \\\n",
       "0  489434     85048  15CM CHRISTMAS GLASS BALL 20 LIGHTS        12   \n",
       "1  489434    79323P                   PINK CHERRY LIGHTS        12   \n",
       "2  489434    79323W                  WHITE CHERRY LIGHTS        12   \n",
       "3  489434     22041         RECORD FRAME 7\" SINGLE SIZE         48   \n",
       "4  489434     21232       STRAWBERRY CERAMIC TRINKET BOX        24   \n",
       "\n",
       "          InvoiceDate  Price Customer ID         Country  Month  \n",
       "0 2009-12-01 07:45:00   6.95     13085.0  United Kingdom     12  \n",
       "1 2009-12-01 07:45:00   6.75     13085.0  United Kingdom     12  \n",
       "2 2009-12-01 07:45:00   6.75     13085.0  United Kingdom     12  \n",
       "3 2009-12-01 07:45:00   2.10     13085.0  United Kingdom     12  \n",
       "4 2009-12-01 07:45:00   1.25     13085.0  United Kingdom     12  "
      ]
     },
     "execution_count": 24,
     "metadata": {},
     "output_type": "execute_result"
    }
   ],
   "source": [
    "month_sells = df\n",
    "month_sells['Month'] = month_sells.InvoiceDate.dt.month\n",
    "month_sells.head()"
   ]
  },
  {
   "cell_type": "code",
   "execution_count": 25,
   "metadata": {},
   "outputs": [],
   "source": [
    "df_sellmonth = month_sells.groupby('Month')['Quantity'].sum()\n",
    "months = ['January', 'February', 'March', 'April', 'May', 'June', 'July', 'August', 'September', 'October', 'November', 'December']"
   ]
  },
  {
   "cell_type": "code",
   "execution_count": 26,
   "metadata": {},
   "outputs": [
    {
     "data": {
      "image/png": "[encoded data removed]",
      "text/plain": [
       "<Figure size 432x288 with 1 Axes>"
      ]
     },
     "metadata": {
      "needs_background": "light"
     },
     "output_type": "display_data"
    }
   ],
   "source": [
    "g = sns.barplot(x=months, y=df_sellmonth)\n",
    "plt.xticks(rotation=90)\n",
    "plt.show()"
   ]
  },
  {
   "cell_type": "markdown",
   "metadata": {},
   "source": [
    "We can see that September to November are the largest sales months! It might be due to Halloween, Thanksgiving and upcoming Christmas holidays. "
   ]
  },
  {
   "cell_type": "markdown",
   "metadata": {},
   "source": [
    "##### Most popular products"
   ]
  },
  {
   "cell_type": "code",
   "execution_count": 27,
   "metadata": {},
   "outputs": [
    {
     "data": {
      "image/png": "[encoded data removed]",
      "text/plain": [
       "<Figure size 432x288 with 1 Axes>"
      ]
     },
     "metadata": {
      "needs_background": "light"
     },
     "output_type": "display_data"
    }
   ],
   "source": [
    "#most popular products in terms of quantity bought\n",
    "prod_popul = df.groupby('Description')['Quantity'].sum().sort_values(ascending = False)\n",
    "g = sns.barplot(x=prod_popul.index[0:10], y=prod_popul[0:10])\n",
    "plt.xticks(rotation=90)\n",
    "plt.show()"
   ]
  },
  {
   "cell_type": "code",
   "execution_count": 28,
   "metadata": {},
   "outputs": [
    {
     "data": {
      "text/plain": [
       "Description\n",
       "REGENCY CAKESTAND 3 TIER               261110.95\n",
       "WHITE HANGING HEART T-LIGHT HOLDER     237678.61\n",
       "JUMBO BAG RED RETROSPOT                132180.02\n",
       "ASSORTED COLOUR BIRD ORNAMENT          123631.87\n",
       "PARTY BUNTING                          102089.38\n",
       "PAPER CHAIN KIT 50'S CHRISTMAS          75388.48\n",
       "CHILLI LIGHTS                           68453.50\n",
       "JUMBO BAG STRAWBERRY                    63615.53\n",
       "BLACK RECORD COVER FRAME                63009.83\n",
       "ROTATING SILVER ANGELS T-LIGHT HLDR     55577.77\n",
       "Name: amount_spent, dtype: float64"
      ]
     },
     "execution_count": 28,
     "metadata": {},
     "output_type": "execute_result"
    }
   ],
   "source": [
    "df_amspent = df.copy()\n",
    "df_amspent['amount_spent'] = df.Quantity * df.Price\n",
    "#largest income per product\n",
    "product_income = df_amspent.groupby('Description')['amount_spent'].sum().sort_values(ascending = False)\n",
    "product_income.head(10)"
   ]
  },
  {
   "cell_type": "code",
   "execution_count": 29,
   "metadata": {},
   "outputs": [
    {
     "data": {
      "image/png": "[encoded data removed]",
      "text/plain": [
       "<Figure size 432x288 with 1 Axes>"
      ]
     },
     "metadata": {
      "needs_background": "light"
     },
     "output_type": "display_data"
    }
   ],
   "source": [
    "g = sns.barplot(x=product_income.index[0:10], y=product_income[0:10])\n",
    "plt.xticks(rotation=90)\n",
    "plt.show()"
   ]
  },
  {
   "cell_type": "markdown",
   "metadata": {},
   "source": [
    "### Feature Engineering"
   ]
  },
  {
   "cell_type": "markdown",
   "metadata": {},
   "source": [
    "Here we will create new features to our data frame which will help us classify customers. The following features are created:\n",
    "- amount_spent per customer which is equal to quantity of a product times its price per customer \n",
    "- SinceLastActive is the column reflecting how many days the customer has been active (purchase or cancellation)\n",
    "- cancelled_item reflects whether the item has been cancelled\n",
    "- SinceLastPurch is derived from SinceLastActive and reflects whether it has been a purchase (as opposed to cancellation)\n",
    "- NumInvoices sums up the number of different invoices (i.e. purchases) a customer made\n",
    "- Frequency is the list of time periods between purchases per customer. In other words, it reflects customers frequency of buying in terms of days\n",
    "- FreqMean is the mean of frequency per customer. In other words, if FreqMean is equal to n days then we expect the customer to make a purchase every n days."
   ]
  },
  {
   "cell_type": "code",
   "execution_count": 30,
   "metadata": {},
   "outputs": [],
   "source": [
    "#cancelled items \n",
    "def detect_cancel(x):\n",
    "    \"\"\"Detecting whether the item is cancelled or not\n",
    "    \"\"\"\n",
    "    if x<0:\n",
    "        return abs(x)\n",
    "    else:\n",
    "        return 0"
   ]
  },
  {
   "cell_type": "code",
   "execution_count": 31,
   "metadata": {},
   "outputs": [],
   "source": [
    "def getting_union(x):\n",
    "    \"\"\"\n",
    "    Function returning a set of all products bought by one customer\n",
    "    \"\"\"\n",
    "    return set(x)"
   ]
  },
  {
   "cell_type": "code",
   "execution_count": 32,
   "metadata": {},
   "outputs": [],
   "source": [
    "def extract_freq(x):\n",
    "    \"\"\"\n",
    "    input: series of dates (of purchase)\n",
    "    output: number of days between each purchase\n",
    "    NB: if a customer made a purchase only once then \"set_of_days\" is set to 0 and will be replaced accordingly in the next function\n",
    "    \"\"\"\n",
    "    dif_x = x.diff().map(lambda x: x.days)\n",
    "    dif_x.dropna(inplace = True)\n",
    "    set_of_days = list(dif_x)\n",
    "    set_of_days = [item for item in set_of_days if item!=0]\n",
    "    \n",
    "    if len(set_of_days)==0:\n",
    "        set_of_days = [0]\n",
    "    return set_of_days"
   ]
  },
  {
   "cell_type": "code",
   "execution_count": 33,
   "metadata": {},
   "outputs": [],
   "source": [
    "def func_feature_engineering(df, present_day, initial_day):\n",
    "    \"\"\"input: \n",
    "    'present_day' and 'initial_day' should be in the formal 'yyyy-mm-dd'. \n",
    "    'present_day' is the current day from which we are looking back to (end of Dec 2011)\n",
    "    \n",
    "    df: contains features Invoice, StockCode, Description, Quantity,InvoiceDate,Price,Customer ID and Country\n",
    "    \n",
    "    output: new data frame with features engineered\n",
    "    \"\"\"\n",
    "    \n",
    "    #Note, that if we were to characterize customers, we would need a data frame where each instance (row) \n",
    "    #would describe one customer. This is not the case for above given data frame df. \n",
    "    #Moreover, we would need such a standard data frame to be able to run any machine learning algorithm on it. \n",
    "    \n",
    "    df['cancelled_item'] = df.Quantity.map(lambda x: detect_cancel(x))\n",
    "    df['amount_spent'] = df.Quantity * df.Price\n",
    "    \n",
    "    #introducing new feature: Since last activity of the customer\n",
    "    present_day_pd = pd.to_datetime(present_day)\n",
    "    df['SinceLastActive'] = (present_day_pd - df['InvoiceDate']).map(lambda x: x.days)\n",
    "    \n",
    "    #we will add an important feature of the recency of the customer (last date of purchase)\n",
    "    SinceLastPurch = df[df.Quantity>0].groupby('Customer ID')[['SinceLastActive']].min()\n",
    "    SinceLastPurch.reset_index(level = 0, inplace = True)\n",
    "    SinceLastPurch.columns = ['Customer ID', 'SinceLastPurch']\n",
    "    \n",
    "    #add feature of the number of invoices per customer\n",
    "    df_invoice = df[df.Quantity>0]\n",
    "    num_invoice = df_invoice.groupby(['Customer ID'])[['Invoice']].nunique()\n",
    "    num_invoice.reset_index(inplace = True)\n",
    "    num_invoice.columns = ['Customer ID', 'NumInvoices']\n",
    "    \n",
    "    #adding frequency: i.e. how often does the customer make a purchase?\n",
    "    df_freq = df.copy()\n",
    "    df_freq = df_freq.sort_values('InvoiceDate', ascending = True)\n",
    "    df_freq = df_freq[df_freq.Quantity>0]\n",
    "    df_freq = df_freq[['Customer ID', 'Invoice', 'InvoiceDate']].drop_duplicates()\n",
    "    freq_cust = df_freq.groupby('Customer ID')[['InvoiceDate']].agg({extract_freq})\n",
    "    freq_cust.reset_index(inplace = True)\n",
    "    freq_cust.dropna(inplace = True)\n",
    "    freq_cust.columns = ['Customer ID', 'Frequency']\n",
    "    \n",
    "    #introducing the new data frame: each instance corresponds to a unique customer\n",
    "    df_new = df.groupby(['Customer ID'])[['Quantity', 'amount_spent', 'cancelled_item', 'Description', 'Country']].agg({\n",
    "        'Quantity': sum,\n",
    "        'amount_spent': sum,\n",
    "        'cancelled_item': sum,\n",
    "        'Description': getting_union,\n",
    "        'Country': list\n",
    "    })\n",
    "    df_new.reset_index(inplace = True)\n",
    "    \n",
    "    #additional cleaning steps are set in place\n",
    "    len_coun = df_new.Country.apply(lambda x: len(x))\n",
    "    nonzero_len = len_coun!=0\n",
    "    df_new = df_new[nonzero_len]\n",
    "    df_new.Country = df_new.Country.map(lambda x: x[0])\n",
    "    \n",
    "    #merging new data set with features engineered above\n",
    "    df_new = pd.merge(df_new, SinceLastPurch, on = 'Customer ID', how = 'outer')\n",
    "    df_new = pd.merge(df_new, num_invoice, on = 'Customer ID', how = 'outer')\n",
    "    df_new = pd.merge(df_new, freq_cust, on = 'Customer ID', how = 'outer')\n",
    "    \n",
    "    #those customers that had Frequency = [0]: we will set the Frequency to the maximum period observed (i.e. 2 years)\n",
    "    rows_to_change = df_new['Frequency'].map(lambda x: x==[0])\n",
    "    for i in range(df_new.shape[0]):\n",
    "        if rows_to_change[i]:\n",
    "            df_new['Frequency'][i] = [(present_day - initial_day).days]\n",
    "        \n",
    "        \n",
    "    #add one more feature of Frequency mean\n",
    "    df_new['FreqMean'] = df_new['Frequency'].map(lambda x: np.mean(x))\n",
    "    \n",
    "    return df_new"
   ]
  },
  {
   "cell_type": "code",
   "execution_count": 34,
   "metadata": {},
   "outputs": [],
   "source": [
    "#this is the data frame that we are engineering with respect to the last day: 31Dec 2011\n",
    "df_ml = func_feature_engineering(df, pd.to_datetime('2011-12-31'), pd.to_datetime('2009-12-01'))"
   ]
  },
  {
   "cell_type": "code",
   "execution_count": 35,
   "metadata": {},
   "outputs": [],
   "source": [
    "#just in case: if there are missing values, we will drop them\n",
    "df_ml.dropna(inplace = True)"
   ]
  },
  {
   "cell_type": "code",
   "execution_count": 36,
   "metadata": {},
   "outputs": [
    {
     "data": {
      "text/plain": [
       "(5853, 10)"
      ]
     },
     "execution_count": 36,
     "metadata": {},
     "output_type": "execute_result"
    }
   ],
   "source": [
    "#let us take a look at how many customers we have\n",
    "df_ml.shape"
   ]
  },
  {
   "cell_type": "code",
   "execution_count": 37,
   "metadata": {},
   "outputs": [
    {
     "data": {
      "text/html": [
       "<div>\n",
       "<style scoped>\n",
       "    .dataframe tbody tr th:only-of-type {\n",
       "        vertical-align: middle;\n",
       "    }\n",
       "\n",
       "    .dataframe tbody tr th {\n",
       "        vertical-align: top;\n",
       "    }\n",
       "\n",
       "    .dataframe thead th {\n",
       "        text-align: right;\n",
       "    }\n",
       "</style>\n",
       "<table border=\"1\" class=\"dataframe\">\n",
       "  <thead>\n",
       "    <tr style=\"text-align: right;\">\n",
       "      <th></th>\n",
       "      <th>Customer ID</th>\n",
       "      <th>Quantity</th>\n",
       "      <th>amount_spent</th>\n",
       "      <th>cancelled_item</th>\n",
       "      <th>Description</th>\n",
       "      <th>Country</th>\n",
       "      <th>SinceLastPurch</th>\n",
       "      <th>NumInvoices</th>\n",
       "      <th>Frequency</th>\n",
       "      <th>FreqMean</th>\n",
       "    </tr>\n",
       "  </thead>\n",
       "  <tbody>\n",
       "    <tr>\n",
       "      <th>0</th>\n",
       "      <td>12346.0</td>\n",
       "      <td>24.0</td>\n",
       "      <td>169.36</td>\n",
       "      <td>74215.0</td>\n",
       "      <td>{DOORMAT FANCY FONT HOME SWEET HOME, DOORMAT I...</td>\n",
       "      <td>United Kingdom</td>\n",
       "      <td>346.0</td>\n",
       "      <td>3</td>\n",
       "      <td>[118.0, 203.0]</td>\n",
       "      <td>160.5</td>\n",
       "    </tr>\n",
       "    <tr>\n",
       "      <th>1</th>\n",
       "      <td>12347.0</td>\n",
       "      <td>2967.0</td>\n",
       "      <td>4921.53</td>\n",
       "      <td>0.0</td>\n",
       "      <td>{REVOLVER WOODEN RULER , MAGIC DRAWING SLATE S...</td>\n",
       "      <td>Iceland</td>\n",
       "      <td>23.0</td>\n",
       "      <td>8</td>\n",
       "      <td>[37.0, 49.0, 70.0, 63.0, 53.0, 90.0, 37.0]</td>\n",
       "      <td>57.0</td>\n",
       "    </tr>\n",
       "    <tr>\n",
       "      <th>2</th>\n",
       "      <td>12348.0</td>\n",
       "      <td>2704.0</td>\n",
       "      <td>1658.40</td>\n",
       "      <td>0.0</td>\n",
       "      <td>{72 CAKE CASES DOLLY GIRL DESIGN, 72 SWEETHEAR...</td>\n",
       "      <td>Finland</td>\n",
       "      <td>96.0</td>\n",
       "      <td>5</td>\n",
       "      <td>[80.0, 39.0, 70.0, 173.0]</td>\n",
       "      <td>90.5</td>\n",
       "    </tr>\n",
       "    <tr>\n",
       "      <th>3</th>\n",
       "      <td>12349.0</td>\n",
       "      <td>1616.0</td>\n",
       "      <td>3654.54</td>\n",
       "      <td>5.0</td>\n",
       "      <td>{SET/5 RED RETROSPOT LID GLASS BOWLS, PINK CAT...</td>\n",
       "      <td>Italy</td>\n",
       "      <td>39.0</td>\n",
       "      <td>3</td>\n",
       "      <td>[181.0, 389.0]</td>\n",
       "      <td>285.0</td>\n",
       "    </tr>\n",
       "    <tr>\n",
       "      <th>4</th>\n",
       "      <td>12350.0</td>\n",
       "      <td>196.0</td>\n",
       "      <td>294.40</td>\n",
       "      <td>0.0</td>\n",
       "      <td>{BLUE POLKADOT PASSPORT COVER, PINK/PURPLE RET...</td>\n",
       "      <td>Norway</td>\n",
       "      <td>331.0</td>\n",
       "      <td>1</td>\n",
       "      <td>[760]</td>\n",
       "      <td>760.0</td>\n",
       "    </tr>\n",
       "  </tbody>\n",
       "</table>\n",
       "</div>"
      ],
      "text/plain": [
       "  Customer ID  Quantity  amount_spent  cancelled_item  \\\n",
       "0     12346.0      24.0        169.36         74215.0   \n",
       "1     12347.0    2967.0       4921.53             0.0   \n",
       "2     12348.0    2704.0       1658.40             0.0   \n",
       "3     12349.0    1616.0       3654.54             5.0   \n",
       "4     12350.0     196.0        294.40             0.0   \n",
       "\n",
       "                                         Description         Country  \\\n",
       "0  {DOORMAT FANCY FONT HOME SWEET HOME, DOORMAT I...  United Kingdom   \n",
       "1  {REVOLVER WOODEN RULER , MAGIC DRAWING SLATE S...         Iceland   \n",
       "2  {72 CAKE CASES DOLLY GIRL DESIGN, 72 SWEETHEAR...         Finland   \n",
       "3  {SET/5 RED RETROSPOT LID GLASS BOWLS, PINK CAT...           Italy   \n",
       "4  {BLUE POLKADOT PASSPORT COVER, PINK/PURPLE RET...          Norway   \n",
       "\n",
       "   SinceLastPurch  NumInvoices                                   Frequency  \\\n",
       "0           346.0            3                              [118.0, 203.0]   \n",
       "1            23.0            8  [37.0, 49.0, 70.0, 63.0, 53.0, 90.0, 37.0]   \n",
       "2            96.0            5                   [80.0, 39.0, 70.0, 173.0]   \n",
       "3            39.0            3                              [181.0, 389.0]   \n",
       "4           331.0            1                                       [760]   \n",
       "\n",
       "   FreqMean  \n",
       "0     160.5  \n",
       "1      57.0  \n",
       "2      90.5  \n",
       "3     285.0  \n",
       "4     760.0  "
      ]
     },
     "execution_count": 37,
     "metadata": {},
     "output_type": "execute_result"
    }
   ],
   "source": [
    "df_ml.head()"
   ]
  },
  {
   "cell_type": "markdown",
   "metadata": {},
   "source": [
    "## Splitting the customers into groups "
   ]
  },
  {
   "cell_type": "markdown",
   "metadata": {},
   "source": [
    "In what follows, we select the most important features characterizing customers and perform clustering modeling. We list the conclusions obtained from the below analysis with the four categories of customers:\n",
    "- \"Best customers\". This class of customers brings the largest profit on average, they make the largest amount of purchases and the time between their purchases is short. \n",
    "- \"Good customers\". This class of customers brings a good portion of your income (but less than best customers by the order of magnitude) and, while these customers don't shop very often, they tend to always come back after a month or two. \n",
    "- \"Irregular customers\". These customers shop rarely and little, around 3.5 times a year. You expect them to come back to the shop eventually, their frequency of purchases is between 3 to 6 months. The income brought by these customers is not very large. \n",
    "- \"One time customers\". These customers have purchased something only once on average and they bring a negligible portion of your income. "
   ]
  },
  {
   "cell_type": "markdown",
   "metadata": {},
   "source": [
    "We believe the cancelled item is not a very useful column given that we have an aggregated amount_spent which reflects cancellations. Moreover, while we do think that baskets of products (Description set) and Country can be useful, for now we will drop them. Moreover, for the clustering purpose, Customer ID will not bring any useful information given that each instance has a different Customer ID. "
   ]
  },
  {
   "cell_type": "code",
   "execution_count": 38,
   "metadata": {},
   "outputs": [],
   "source": [
    "df_clustering = df_ml[['Quantity', 'amount_spent', 'SinceLastPurch', 'NumInvoices', 'FreqMean']]"
   ]
  },
  {
   "cell_type": "code",
   "execution_count": 39,
   "metadata": {},
   "outputs": [
    {
     "data": {
      "text/html": [
       "<div>\n",
       "<style scoped>\n",
       "    .dataframe tbody tr th:only-of-type {\n",
       "        vertical-align: middle;\n",
       "    }\n",
       "\n",
       "    .dataframe tbody tr th {\n",
       "        vertical-align: top;\n",
       "    }\n",
       "\n",
       "    .dataframe thead th {\n",
       "        text-align: right;\n",
       "    }\n",
       "</style>\n",
       "<table border=\"1\" class=\"dataframe\">\n",
       "  <thead>\n",
       "    <tr style=\"text-align: right;\">\n",
       "      <th></th>\n",
       "      <th>Quantity</th>\n",
       "      <th>amount_spent</th>\n",
       "      <th>SinceLastPurch</th>\n",
       "      <th>NumInvoices</th>\n",
       "      <th>FreqMean</th>\n",
       "    </tr>\n",
       "  </thead>\n",
       "  <tbody>\n",
       "    <tr>\n",
       "      <th>0</th>\n",
       "      <td>24.0</td>\n",
       "      <td>169.36</td>\n",
       "      <td>346.0</td>\n",
       "      <td>3</td>\n",
       "      <td>160.500000</td>\n",
       "    </tr>\n",
       "    <tr>\n",
       "      <th>1</th>\n",
       "      <td>2967.0</td>\n",
       "      <td>4921.53</td>\n",
       "      <td>23.0</td>\n",
       "      <td>8</td>\n",
       "      <td>57.000000</td>\n",
       "    </tr>\n",
       "    <tr>\n",
       "      <th>2</th>\n",
       "      <td>2704.0</td>\n",
       "      <td>1658.40</td>\n",
       "      <td>96.0</td>\n",
       "      <td>5</td>\n",
       "      <td>90.500000</td>\n",
       "    </tr>\n",
       "    <tr>\n",
       "      <th>3</th>\n",
       "      <td>1616.0</td>\n",
       "      <td>3654.54</td>\n",
       "      <td>39.0</td>\n",
       "      <td>3</td>\n",
       "      <td>285.000000</td>\n",
       "    </tr>\n",
       "    <tr>\n",
       "      <th>4</th>\n",
       "      <td>196.0</td>\n",
       "      <td>294.40</td>\n",
       "      <td>331.0</td>\n",
       "      <td>1</td>\n",
       "      <td>760.000000</td>\n",
       "    </tr>\n",
       "    <tr>\n",
       "      <th>...</th>\n",
       "      <td>...</td>\n",
       "      <td>...</td>\n",
       "      <td>...</td>\n",
       "      <td>...</td>\n",
       "      <td>...</td>\n",
       "    </tr>\n",
       "    <tr>\n",
       "      <th>5871</th>\n",
       "      <td>1677.0</td>\n",
       "      <td>2658.95</td>\n",
       "      <td>24.0</td>\n",
       "      <td>22</td>\n",
       "      <td>35.777778</td>\n",
       "    </tr>\n",
       "    <tr>\n",
       "      <th>5872</th>\n",
       "      <td>493.0</td>\n",
       "      <td>411.68</td>\n",
       "      <td>452.0</td>\n",
       "      <td>1</td>\n",
       "      <td>760.000000</td>\n",
       "    </tr>\n",
       "    <tr>\n",
       "      <th>5873</th>\n",
       "      <td>144.0</td>\n",
       "      <td>377.00</td>\n",
       "      <td>681.0</td>\n",
       "      <td>1</td>\n",
       "      <td>760.000000</td>\n",
       "    </tr>\n",
       "    <tr>\n",
       "      <th>5874</th>\n",
       "      <td>591.0</td>\n",
       "      <td>1138.43</td>\n",
       "      <td>497.0</td>\n",
       "      <td>2</td>\n",
       "      <td>247.000000</td>\n",
       "    </tr>\n",
       "    <tr>\n",
       "      <th>5875</th>\n",
       "      <td>3010.0</td>\n",
       "      <td>4127.89</td>\n",
       "      <td>63.0</td>\n",
       "      <td>7</td>\n",
       "      <td>105.000000</td>\n",
       "    </tr>\n",
       "  </tbody>\n",
       "</table>\n",
       "<p>5853 rows × 5 columns</p>\n",
       "</div>"
      ],
      "text/plain": [
       "      Quantity  amount_spent  SinceLastPurch  NumInvoices    FreqMean\n",
       "0         24.0        169.36           346.0            3  160.500000\n",
       "1       2967.0       4921.53            23.0            8   57.000000\n",
       "2       2704.0       1658.40            96.0            5   90.500000\n",
       "3       1616.0       3654.54            39.0            3  285.000000\n",
       "4        196.0        294.40           331.0            1  760.000000\n",
       "...        ...           ...             ...          ...         ...\n",
       "5871    1677.0       2658.95            24.0           22   35.777778\n",
       "5872     493.0        411.68           452.0            1  760.000000\n",
       "5873     144.0        377.00           681.0            1  760.000000\n",
       "5874     591.0       1138.43           497.0            2  247.000000\n",
       "5875    3010.0       4127.89            63.0            7  105.000000\n",
       "\n",
       "[5853 rows x 5 columns]"
      ]
     },
     "execution_count": 39,
     "metadata": {},
     "output_type": "execute_result"
    }
   ],
   "source": [
    "df_clustering"
   ]
  },
  {
   "cell_type": "markdown",
   "metadata": {},
   "source": [
    "#### Using KMeans for clustering"
   ]
  },
  {
   "cell_type": "markdown",
   "metadata": {},
   "source": [
    "As a clustering method we will use KMeans. Note, that features in KMeans should be normalized (otherwise there will be a bias towards larger values in certain columns). "
   ]
  },
  {
   "cell_type": "code",
   "execution_count": 40,
   "metadata": {},
   "outputs": [],
   "source": [
    "scaler = StandardScaler()\n",
    "scaler.fit(df_clustering)\n",
    "df_clust_normalized = scaler.transform(df_clustering)"
   ]
  },
  {
   "cell_type": "markdown",
   "metadata": {},
   "source": [
    "We will start with a simple KMeans clustering with 2 clusters. "
   ]
  },
  {
   "cell_type": "code",
   "execution_count": 41,
   "metadata": {},
   "outputs": [],
   "source": [
    "#Let us look what happens if we split the data only in 2 clusters\n",
    "kmeans = KMeans(n_clusters=2, random_state=1)\n",
    "kmeans.fit(df_clust_normalized)\n",
    "cluster_labels = kmeans.labels_"
   ]
  },
  {
   "cell_type": "code",
   "execution_count": 42,
   "metadata": {},
   "outputs": [],
   "source": [
    "df_clust_lab = df_ml.assign(Cluster = cluster_labels)"
   ]
  },
  {
   "cell_type": "code",
   "execution_count": 43,
   "metadata": {},
   "outputs": [
    {
     "data": {
      "text/html": [
       "<div>\n",
       "<style scoped>\n",
       "    .dataframe tbody tr th:only-of-type {\n",
       "        vertical-align: middle;\n",
       "    }\n",
       "\n",
       "    .dataframe tbody tr th {\n",
       "        vertical-align: top;\n",
       "    }\n",
       "\n",
       "    .dataframe thead th {\n",
       "        text-align: right;\n",
       "    }\n",
       "</style>\n",
       "<table border=\"1\" class=\"dataframe\">\n",
       "  <thead>\n",
       "    <tr style=\"text-align: right;\">\n",
       "      <th></th>\n",
       "      <th>SinceLastPurch</th>\n",
       "      <th>Quantity</th>\n",
       "      <th>amount_spent</th>\n",
       "      <th>NumInvoices</th>\n",
       "      <th>FreqMean</th>\n",
       "    </tr>\n",
       "    <tr>\n",
       "      <th>Cluster</th>\n",
       "      <th></th>\n",
       "      <th></th>\n",
       "      <th></th>\n",
       "      <th></th>\n",
       "      <th></th>\n",
       "    </tr>\n",
       "  </thead>\n",
       "  <tbody>\n",
       "    <tr>\n",
       "      <th>0</th>\n",
       "      <td>221.0</td>\n",
       "      <td>1342.0</td>\n",
       "      <td>2214.0</td>\n",
       "      <td>6.0</td>\n",
       "      <td>299.0</td>\n",
       "    </tr>\n",
       "    <tr>\n",
       "      <th>1</th>\n",
       "      <td>59.0</td>\n",
       "      <td>111229.0</td>\n",
       "      <td>172243.0</td>\n",
       "      <td>137.0</td>\n",
       "      <td>11.0</td>\n",
       "    </tr>\n",
       "  </tbody>\n",
       "</table>\n",
       "</div>"
      ],
      "text/plain": [
       "         SinceLastPurch  Quantity  amount_spent  NumInvoices  FreqMean\n",
       "Cluster                                                               \n",
       "0                 221.0    1342.0        2214.0          6.0     299.0\n",
       "1                  59.0  111229.0      172243.0        137.0      11.0"
      ]
     },
     "execution_count": 43,
     "metadata": {},
     "output_type": "execute_result"
    }
   ],
   "source": [
    "df_clust_lab.groupby(['Cluster']).agg({\n",
    "    'SinceLastPurch': 'mean',\n",
    "    'Quantity': 'mean',\n",
    "    'amount_spent': 'mean',\n",
    "    'NumInvoices': 'mean',\n",
    "    'FreqMean': 'mean'\n",
    "}).round(0)"
   ]
  },
  {
   "cell_type": "markdown",
   "metadata": {},
   "source": [
    "We note that the split into two clusters is fairly intuitional. More specifically:\n",
    "- On average, customers in category 0 have not purchased in a long time ago, they are not very frequent customer either. On the other hand, customers in category 1 have purchased more recently and have are on average frequent customers.\n",
    "- Customers in category 0 did not purchase a lot in terms of quantity and the total amount spent, while customers in category 1 purchased a lot in terms of quantity and amount spent. \n",
    "- The number of invoices in category 0 is low and the number of invoice in category 1 is high. \n",
    "\n",
    "We further look at enhancing our clustering method to more clusters. "
   ]
  },
  {
   "cell_type": "markdown",
   "metadata": {},
   "source": [
    "To see how many clusters it is worth introducing (note, that in KMeans method you have to set the number of clusters yourself), we check the so-called intertia plot (and look for an elbow) as well as we will look at the silhouette score. "
   ]
  },
  {
   "cell_type": "code",
   "execution_count": 44,
   "metadata": {},
   "outputs": [],
   "source": [
    "inert = np.zeros(7)\n",
    "silh_score = np.zeros(7)\n",
    "for i in range(2,9):\n",
    "    kmeans = KMeans(n_clusters = i)\n",
    "    y_pred = kmeans.fit_predict(df_clust_normalized)\n",
    "    inert[i-2] = kmeans.inertia_\n",
    "    silh_score[i-2] = silhouette_score(df_clust_normalized, kmeans.labels_)"
   ]
  },
  {
   "cell_type": "code",
   "execution_count": 45,
   "metadata": {},
   "outputs": [
    {
     "data": {
      "text/plain": [
       "[<matplotlib.lines.Line2D at 0x29568ef7e48>]"
      ]
     },
     "execution_count": 45,
     "metadata": {},
     "output_type": "execute_result"
    },
    {
     "data": {
      "image/png": "[encoded data removed]",
      "text/plain": [
       "<Figure size 432x288 with 1 Axes>"
      ]
     },
     "metadata": {
      "needs_background": "light"
     },
     "output_type": "display_data"
    }
   ],
   "source": [
    "plt.plot(np.arange(2,9), inert)"
   ]
  },
  {
   "cell_type": "code",
   "execution_count": 46,
   "metadata": {},
   "outputs": [
    {
     "data": {
      "text/plain": [
       "[<matplotlib.lines.Line2D at 0x2955e2f6860>]"
      ]
     },
     "execution_count": 46,
     "metadata": {},
     "output_type": "execute_result"
    },
    {
     "data": {
      "image/png": "[encoded data removed]",
      "text/plain": [
       "<Figure size 432x288 with 1 Axes>"
      ]
     },
     "metadata": {
      "needs_background": "light"
     },
     "output_type": "display_data"
    }
   ],
   "source": [
    "plt.plot(np.arange(2,9), silh_score)"
   ]
  },
  {
   "cell_type": "markdown",
   "metadata": {},
   "source": [
    "#### Conclusions on the number of clusters:\n",
    "Based on the trade-off between the inertia plot (elbow detecting) and silhouette (larger silh is better), we decide to choose k = 4."
   ]
  },
  {
   "cell_type": "code",
   "execution_count": 47,
   "metadata": {},
   "outputs": [
    {
     "data": {
      "text/html": [
       "<div>\n",
       "<style scoped>\n",
       "    .dataframe tbody tr th:only-of-type {\n",
       "        vertical-align: middle;\n",
       "    }\n",
       "\n",
       "    .dataframe tbody tr th {\n",
       "        vertical-align: top;\n",
       "    }\n",
       "\n",
       "    .dataframe thead th {\n",
       "        text-align: right;\n",
       "    }\n",
       "</style>\n",
       "<table border=\"1\" class=\"dataframe\">\n",
       "  <thead>\n",
       "    <tr style=\"text-align: right;\">\n",
       "      <th></th>\n",
       "      <th>SinceLastPurch</th>\n",
       "      <th>Quantity</th>\n",
       "      <th>amount_spent</th>\n",
       "      <th>NumInvoices</th>\n",
       "      <th>FreqMean</th>\n",
       "    </tr>\n",
       "    <tr>\n",
       "      <th>Cluster</th>\n",
       "      <th></th>\n",
       "      <th></th>\n",
       "      <th></th>\n",
       "      <th></th>\n",
       "      <th></th>\n",
       "    </tr>\n",
       "  </thead>\n",
       "  <tbody>\n",
       "    <tr>\n",
       "      <th>0</th>\n",
       "      <td>368.0</td>\n",
       "      <td>231.0</td>\n",
       "      <td>381.0</td>\n",
       "      <td>1.0</td>\n",
       "      <td>751.0</td>\n",
       "    </tr>\n",
       "    <tr>\n",
       "      <th>1</th>\n",
       "      <td>160.0</td>\n",
       "      <td>1601.0</td>\n",
       "      <td>2700.0</td>\n",
       "      <td>7.0</td>\n",
       "      <td>107.0</td>\n",
       "    </tr>\n",
       "    <tr>\n",
       "      <th>2</th>\n",
       "      <td>74.0</td>\n",
       "      <td>45745.0</td>\n",
       "      <td>62465.0</td>\n",
       "      <td>84.0</td>\n",
       "      <td>32.0</td>\n",
       "    </tr>\n",
       "    <tr>\n",
       "      <th>3</th>\n",
       "      <td>24.0</td>\n",
       "      <td>206977.0</td>\n",
       "      <td>369660.0</td>\n",
       "      <td>190.0</td>\n",
       "      <td>8.0</td>\n",
       "    </tr>\n",
       "  </tbody>\n",
       "</table>\n",
       "</div>"
      ],
      "text/plain": [
       "         SinceLastPurch  Quantity  amount_spent  NumInvoices  FreqMean\n",
       "Cluster                                                               \n",
       "0                 368.0     231.0         381.0          1.0     751.0\n",
       "1                 160.0    1601.0        2700.0          7.0     107.0\n",
       "2                  74.0   45745.0       62465.0         84.0      32.0\n",
       "3                  24.0  206977.0      369660.0        190.0       8.0"
      ]
     },
     "execution_count": 47,
     "metadata": {},
     "output_type": "execute_result"
    }
   ],
   "source": [
    "#Let us look what happens if we split the data in 5 clusters\n",
    "kmeans = KMeans(n_clusters=4, random_state=1)\n",
    "kmeans.fit(df_clust_normalized)\n",
    "cluster_labels = kmeans.labels_\n",
    "df_clust_lab = df_clustering.assign(Cluster = cluster_labels)\n",
    "df_clust_lab.groupby(['Cluster']).agg({\n",
    "    'SinceLastPurch': 'mean',\n",
    "    'Quantity': 'mean',\n",
    "    'amount_spent': 'mean',\n",
    "    'NumInvoices': 'mean',\n",
    "    'FreqMean': 'mean'\n",
    "}).round(0)"
   ]
  },
  {
   "cell_type": "markdown",
   "metadata": {},
   "source": [
    "### Conclusions on clustering"
   ]
  },
  {
   "cell_type": "markdown",
   "metadata": {},
   "source": [
    "- \"Best customers\". This class of customers brings the largest profit on average, they make the largest amount of purchases and the time between their purchases is short. \n",
    "- \"Good customers\". This class of customers brings a good portion of your income (but less than best customers by the order of magnitude) and, while don't shop very often, they tend to always come back after a month or two. \n",
    "- \"Irregular customers\". These customers shop rarely and little, around 3.5 times a year. You expect them to come back to the shop eventually, their frequency of purchases is between 3 to 6 months. The income brought from these customers is not very large. \n",
    "- \"One time customers\". These customers have purchased something only once on average and their bring a negligible portion of your income. "
   ]
  },
  {
   "cell_type": "code",
   "execution_count": null,
   "metadata": {},
   "outputs": [],
   "source": []
  },
  {
   "cell_type": "markdown",
   "metadata": {},
   "source": [
    "## Detecting churning customers"
   ]
  },
  {
   "cell_type": "markdown",
   "metadata": {},
   "source": [
    "Below the following steps are taken:\n",
    "- Definition of Churned customer is established and added to the data frame\n",
    "- Data frame was further processed in categorical variables (OneHotEncoding), numerical variables were scaled. Data was split into train data and test data. \n",
    "- Logistic regression was performed to predict churned customers\n",
    "- Random Forest model also was used to predict churned customers. The performance of Random Forest was detected to be superior to Logistic regression through AUC metric. "
   ]
  },
  {
   "cell_type": "markdown",
   "metadata": {},
   "source": [
    "### Conclusions of what follows below:\n",
    "\n",
    "#### The following customers are churned in the second half of 2011: \n",
    "\n",
    "['12685.0', '12748.0', '12856.0', '12947.0', '12971.0', '12980.0',\n",
    "       '13027.0', '13037.0', '13082.0', '13089.0', '13162.0', '13291.0',\n",
    "       '13491.0', '13593.0', '13631.0', '13695.0', '13752.0', '13755.0',\n",
    "       '13802.0', '13869.0', '14045.0', '14096.0', '14156.0', '14344.0',\n",
    "       '14364.0', '14414.0', '14434.0', '14461.0', '14472.0', '14527.0',\n",
    "       '14547.0', '14606.0', '14680.0', '14692.0', '14911.0', '14918.0',\n",
    "       '15005.0', '15039.0', '15245.0', '15260.0', '15311.0', '15410.0',\n",
    "       '15523.0', '15581.0', '15623.0', '15768.0', '15827.0', '15885.0',\n",
    "       '15939.0', '16027.0', '16029.0', '16174.0', '16180.0', '16422.0',\n",
    "       '16549.0', '16550.0', '16729.0', '16745.0', '16919.0', '16928.0',\n",
    "       '17061.0', '17085.0', '17126.0', '17377.0', '17457.0', '17460.0',\n",
    "       '17692.0', '17719.0', '17723.0', '17837.0', '17841.0', '17848.0',\n",
    "       '17894.0', '17931.0', '17961.0', '17997.0', '18008.0', '18037.0',\n",
    "       '18073.0', '18116.0', '18178.0', '18226.0']\n",
    "       \n",
    "#### The following customers are considered to be at risk of churning:\n",
    "{'13408.0', '13694.0', '13798.0', '14646.0', '17509.0'}\n",
    "\n",
    "\n",
    "Customers that are at risk of churning are customers that make purchases very often and bring a lot of income in terms of their amount spent. Hence, it would be recommended to offer them a premium, or a loyalty program or a promotion on products to keep them. "
   ]
  },
  {
   "cell_type": "markdown",
   "metadata": {},
   "source": [
    "### Defining churned customers"
   ]
  },
  {
   "cell_type": "markdown",
   "metadata": {},
   "source": [
    "First, we have to define \"churned\" customers. These are customers that we don't expect to come back. Note, that contractual churned customers are much easier identified (as they stop their subscription, for instance). In case of a retailer, one will have to come up with a definition of a churned customer. \n",
    "\n",
    "One could define a churned customer based on average customers statistics (e.g. a customer did not come back for a month or two). We decided to exploit more personalized approach, where we define \"abnormally long time without a purchase\" that is specific to a customer  based on his previous purchase history and behaviour. \n",
    "\n",
    "The above can be expressed in terms of \"SinceLastPurch\" (since last purchase) and the general trend in customers purchase frequency. We exploited two possibilities:\n",
    "- Churned customer is a customer for which SinceLastPurch is larger than the 80% quantile of its normal purchase frequency times two. We fine tuned the coefficient $2$ assuming the seasonality in purchases. \n",
    "- Churned customer is a customer for which SinceLastPurch is larger than the Frequency Mean + 3 Standard Deviations of Frequencies. This is a standard approach to find outliers if your underlying data follows normal distribution. \n",
    "\n",
    "By having analyzed two these approaches, we found that they are relatively close in terms number of customers defined churned. Both approaches give similar result, so we will continue with the first one. \n",
    "\n",
    "Moreover, since the question was about the second half of 2011, we will have to filter our \"churned\" customers by those whose \"SinceLastPurch\" is less than 180 days. "
   ]
  },
  {
   "cell_type": "markdown",
   "metadata": {},
   "source": [
    "Note that for customers that visited the store too few times, we cannot meaningfully say whether they churned or not. These occasional customers will be excluded from further analysis. "
   ]
  },
  {
   "cell_type": "code",
   "execution_count": 48,
   "metadata": {},
   "outputs": [],
   "source": [
    "df_churned = df_ml.copy()\n",
    "#excluding occasional customers\n",
    "df_churned = df_churned[df_churned.Frequency.map(lambda x: len(x)) >= 5]\n",
    "df_churned.reset_index(drop = True, inplace = True)"
   ]
  },
  {
   "cell_type": "code",
   "execution_count": 49,
   "metadata": {},
   "outputs": [
    {
     "data": {
      "text/plain": [
       "(1666, 10)"
      ]
     },
     "execution_count": 49,
     "metadata": {},
     "output_type": "execute_result"
    }
   ],
   "source": [
    "df_churned.shape"
   ]
  },
  {
   "cell_type": "code",
   "execution_count": 50,
   "metadata": {},
   "outputs": [],
   "source": [
    "df_churned['Quant80'] = df_churned['Frequency'].map(lambda x: np.quantile(x, 0.8))\n",
    "df_churned['Churned'] = df_churned['SinceLastPurch'] > df_churned['Quant80'].map(lambda x: 2*x)\n",
    "\n",
    "#investigating the Churned customers\n",
    "filtering_churned = df_churned['Churned']==True\n",
    "filter_last_half_2011 = df_churned['SinceLastPurch'] < 180\n",
    "\n",
    "final_filter = np.zeros(len(filtering_churned),dtype=bool)\n",
    "for i in range(len(filtering_churned)):\n",
    "    if (filtering_churned[i] and filter_last_half_2011[i]):\n",
    "        final_filter[i] = True\n",
    "    else:\n",
    "        final_filter[i] = False\n",
    "        \n",
    "churned_last_half_2011 = df_churned[final_filter]\n",
    "churned_last_half_2011['Churned'] = churned_last_half_2011['Churned'].astype('int')"
   ]
  },
  {
   "cell_type": "code",
   "execution_count": 51,
   "metadata": {},
   "outputs": [
    {
     "data": {
      "text/plain": [
       "array(['12685.0', '12748.0', '12856.0', '12947.0', '12971.0', '12980.0',\n",
       "       '13027.0', '13037.0', '13082.0', '13089.0', '13162.0', '13291.0',\n",
       "       '13491.0', '13593.0', '13631.0', '13695.0', '13752.0', '13755.0',\n",
       "       '13802.0', '13869.0', '14045.0', '14096.0', '14156.0', '14344.0',\n",
       "       '14364.0', '14414.0', '14434.0', '14461.0', '14472.0', '14527.0',\n",
       "       '14547.0', '14606.0', '14680.0', '14692.0', '14911.0', '14918.0',\n",
       "       '15005.0', '15039.0', '15245.0', '15260.0', '15311.0', '15410.0',\n",
       "       '15523.0', '15581.0', '15623.0', '15768.0', '15827.0', '15885.0',\n",
       "       '15939.0', '16027.0', '16029.0', '16174.0', '16180.0', '16422.0',\n",
       "       '16549.0', '16550.0', '16729.0', '16745.0', '16919.0', '16928.0',\n",
       "       '17061.0', '17085.0', '17126.0', '17377.0', '17457.0', '17460.0',\n",
       "       '17692.0', '17719.0', '17723.0', '17837.0', '17841.0', '17848.0',\n",
       "       '17894.0', '17931.0', '17961.0', '17997.0', '18008.0', '18037.0',\n",
       "       '18073.0', '18116.0', '18178.0', '18226.0'], dtype=object)"
      ]
     },
     "execution_count": 51,
     "metadata": {},
     "output_type": "execute_result"
    }
   ],
   "source": [
    "#churned customers:\n",
    "np.array(churned_last_half_2011['Customer ID'])"
   ]
  },
  {
   "cell_type": "markdown",
   "metadata": {},
   "source": [
    "We come back now to the df_ml data frame, we will attached \"Churned\" target and will train the model to predict it. "
   ]
  },
  {
   "cell_type": "code",
   "execution_count": 52,
   "metadata": {},
   "outputs": [],
   "source": [
    "customers_churned = churned_last_half_2011['Customer ID']\n",
    "df_ml['Churned'] = df_ml['Customer ID'].map(lambda x: x in list(customers_churned)).astype('int')\n",
    "#enreaching the data with more features and deleting unnecessary ones\n",
    "df_ml['FreqQ75'] = df_ml['Frequency'].map(lambda x: np.quantile(x, 0.75))\n",
    "df_ml['FreqQ25'] = df_ml['Frequency'].map(lambda x: np.quantile(x, 0.25))\n",
    "\n",
    "#the set of different countries is too large. We will pick countries that bring the most income and all others set to \"others\"\n",
    "def detect_country(x):\n",
    "    set_of_countries = ['United Kingdom', 'EIRE', 'Germany','France','Netherlands', 'Spain','Belgium', 'Switzerland']\n",
    "    if x in set_of_countries:\n",
    "        return x\n",
    "    else:\n",
    "        return \"Other\"\n",
    "    \n",
    "\n",
    "df_ml['CountryCat'] = df_ml['Country'].map(lambda x: detect_country(x))"
   ]
  },
  {
   "cell_type": "code",
   "execution_count": 53,
   "metadata": {},
   "outputs": [],
   "source": [
    "df_working = df_ml.drop(columns = ['Frequency', 'Description', 'Country'])"
   ]
  },
  {
   "cell_type": "code",
   "execution_count": 54,
   "metadata": {},
   "outputs": [],
   "source": [
    "#Separating categorical and numberical columns\n",
    "custid = ['Customer ID']\n",
    "target = ['Churned']\n",
    "categorical = df_working.nunique()[df_working.nunique()<10].keys().tolist()\n",
    "categorical.remove(target[0])\n",
    "numerical = [col for col in df_working.columns if col not in custid  + target + categorical]\n",
    "\n",
    "#One-hot-encoding categorical variables\n",
    "df_working = pd.get_dummies(data=df_working, columns=categorical, drop_first=True)\n",
    "\n",
    "#Scaling numberical features\n",
    "#Initialize StandardScaler instance\n",
    "scaler = StandardScaler()\n",
    "# Fit the scaler to numerical columns\n",
    "scaled_numerical = scaler.fit_transform(df_working[numerical])\n",
    "# Build a DataFrame\n",
    "scaled_numerical = pd.DataFrame(scaled_numerical, columns=numerical)\n",
    "#Drop non-scaled numerical columns\n",
    "df_working = df_working.drop(columns=numerical, axis=1)"
   ]
  },
  {
   "cell_type": "code",
   "execution_count": 55,
   "metadata": {},
   "outputs": [],
   "source": [
    "df_working.reset_index(drop = True, inplace = True)\n",
    "\n",
    "# Merge the non-numerical with the scaled numerical data\n",
    "frames = [df_working, scaled_numerical]\n",
    "df_prepared = pd.concat(frames, axis=1)"
   ]
  },
  {
   "cell_type": "code",
   "execution_count": 56,
   "metadata": {},
   "outputs": [],
   "source": [
    "features = [item for item in df_prepared.columns if item != 'Customer ID' and item!='Churned']\n",
    "Y = df_prepared[['Churned']]\n",
    "X = df_prepared[features]\n",
    "\n",
    "# Split data to training and testing\n",
    "X_train, X_test, y_train, y_test = train_test_split(X, Y, test_size=0.25, random_state = 42)"
   ]
  },
  {
   "cell_type": "markdown",
   "metadata": {},
   "source": [
    "### Using logistics regression"
   ]
  },
  {
   "cell_type": "code",
   "execution_count": 57,
   "metadata": {},
   "outputs": [],
   "source": [
    "log_reg = LogisticRegression(solver=\"liblinear\", random_state=42)\n",
    "log_reg.fit(X_train, y_train)\n",
    "y_proba = log_reg.predict_proba(X_test)[:,1]\n",
    "y_pred = log_reg.predict(X_test)"
   ]
  },
  {
   "cell_type": "markdown",
   "metadata": {},
   "source": [
    "Note, that given that the data is unbalanced (there are many more not churned customers than churned. \n",
    "Hence, the standard accuracy score will not be useful. We will make use of the ROC curve instead. "
   ]
  },
  {
   "cell_type": "code",
   "execution_count": 58,
   "metadata": {},
   "outputs": [
    {
     "data": {
      "image/png": "[encoded data removed]",
      "text/plain": [
       "<Figure size 432x288 with 1 Axes>"
      ]
     },
     "metadata": {
      "needs_background": "light"
     },
     "output_type": "display_data"
    }
   ],
   "source": [
    "fpr, tpr, thresholds = roc_curve(y_test, y_proba)\n",
    "plt.plot(fpr, tpr)\n",
    "plt.xlabel(\"False Positive Rate\")\n",
    "plt.ylabel(\"True Positive Rate\")\n",
    "plt.plot([0, 1], [0, 1], \"k--\")\n",
    "plt.show()"
   ]
  },
  {
   "cell_type": "code",
   "execution_count": 59,
   "metadata": {},
   "outputs": [
    {
     "name": "stdout",
     "output_type": "stream",
     "text": [
      "The area under ROC curves for Logistic Regression on Test Data is:  0.9310344827586208\n"
     ]
    }
   ],
   "source": [
    "#Area under the curve\n",
    "auc = roc_auc_score(y_test, y_proba)\n",
    "print(\"The area under ROC curves for Logistic Regression on Test Data is: \", auc)"
   ]
  },
  {
   "cell_type": "markdown",
   "metadata": {},
   "source": [
    "The above predictor is not too bad. Note that for a random classifier, the area under the ROC curve is 0.5"
   ]
  },
  {
   "cell_type": "markdown",
   "metadata": {},
   "source": [
    "### Using Random Forests"
   ]
  },
  {
   "cell_type": "code",
   "execution_count": 72,
   "metadata": {},
   "outputs": [
    {
     "name": "stdout",
     "output_type": "stream",
     "text": [
      "For max leaf nodes  5 the AUC is  0.9622732187913012\n",
      "For max leaf nodes  6 the AUC is  0.9721734951339662\n",
      "For max leaf nodes  7 the AUC is  0.9772678120869878\n",
      "For max leaf nodes  8 the AUC is  0.9797188513757059\n",
      "For max leaf nodes  9 the AUC is  0.9784693019343986\n",
      "For max leaf nodes  10 the AUC is  0.9830349633545595\n",
      "For max leaf nodes  11 the AUC is  0.9826985461972846\n",
      "For max leaf nodes  12 the AUC is  0.9820016820857864\n",
      "For max leaf nodes  13 the AUC is  0.9822419800552685\n",
      "For max leaf nodes  14 the AUC is  0.9829148143698186\n",
      "For max leaf nodes  15 the AUC is  0.9845488405622972\n",
      "For max leaf nodes  16 the AUC is  0.9792142256397933\n",
      "For max leaf nodes  17 the AUC is  0.9849573471104169\n",
      "For max leaf nodes  18 the AUC is  0.9830830229484561\n",
      "For max leaf nodes  19 the AUC is  0.9866634626937402\n"
     ]
    }
   ],
   "source": [
    "#Fine tuning of the number of leaf nodes: we choose the one that has AUC largest (for test data)\n",
    "for max_lef_n in range(5,20):\n",
    "    rnd_clf = RandomForestClassifier(n_estimators = 500, max_leaf_nodes = max_lef_n, n_jobs = -1)\n",
    "    rnd_clf.fit(X_train, y_train)\n",
    "    y_pred_rf = rnd_clf.predict(X_test)\n",
    "    #take argument #1 in probability prediction to see probability of churned\n",
    "    y_pred_rf_proba = rnd_clf.predict_proba(X_test)[:,1]\n",
    "    auc = roc_auc_score(y_test, y_pred_rf_proba)\n",
    "    print(\"For max leaf nodes \", max_lef_n, \"the AUC is \", auc)"
   ]
  },
  {
   "cell_type": "code",
   "execution_count": 73,
   "metadata": {},
   "outputs": [],
   "source": [
    "rnd_clf = RandomForestClassifier(n_estimators = 500, max_leaf_nodes = 19, n_jobs = -1)\n",
    "rnd_clf.fit(X_train, y_train)\n",
    "y_pred_rf = rnd_clf.predict(X_test)\n",
    "#take argument #1 in probability prediction to see probability of churned\n",
    "y_pred_rf_proba = rnd_clf.predict_proba(X_test)[:,1]\n",
    "auc = roc_auc_score(y_test, y_pred_rf_proba)"
   ]
  },
  {
   "cell_type": "code",
   "execution_count": 74,
   "metadata": {},
   "outputs": [
    {
     "name": "stdout",
     "output_type": "stream",
     "text": [
      "The area under ROC curves for Random Forest on Test Data is:  0.9871440586327045\n"
     ]
    }
   ],
   "source": [
    "print(\"The area under ROC curves for Random Forest on Test Data is: \", auc)"
   ]
  },
  {
   "cell_type": "code",
   "execution_count": 75,
   "metadata": {},
   "outputs": [
    {
     "data": {
      "image/png": "[encoded data removed]",
      "text/plain": [
       "<Figure size 432x288 with 1 Axes>"
      ]
     },
     "metadata": {
      "needs_background": "light"
     },
     "output_type": "display_data"
    }
   ],
   "source": [
    "fpr, tpr, thresholds = roc_curve(y_test, y_pred_rf_proba)\n",
    "plt.plot(fpr, tpr)\n",
    "plt.xlabel(\"False Positive Rate\")\n",
    "plt.ylabel(\"True Positive Rate\")\n",
    "plt.plot([0, 1], [0, 1], \"k--\")\n",
    "plt.show()"
   ]
  },
  {
   "cell_type": "markdown",
   "metadata": {},
   "source": [
    "A better performance compared to the logistic regression!"
   ]
  },
  {
   "cell_type": "code",
   "execution_count": 76,
   "metadata": {},
   "outputs": [],
   "source": [
    "y_full_data = rnd_clf.predict(X)\n",
    "#take argument #1 in probability prediction to see probability of churned\n",
    "y_pred_proba_full = rnd_clf.predict_proba(X)[:,1]"
   ]
  },
  {
   "cell_type": "code",
   "execution_count": 77,
   "metadata": {},
   "outputs": [],
   "source": [
    "df_ml['proba_churn'] = y_pred_proba_full\n",
    "df_ml['predict_churn'] = y_full_data"
   ]
  },
  {
   "cell_type": "code",
   "execution_count": 78,
   "metadata": {},
   "outputs": [],
   "source": [
    "#We will define customer at risk as those that have probability of churn above 0.3\n",
    "#we also substract those customers that we already classified as churned\n",
    "cust_at_risk_proba = set(df_ml[df_ml['proba_churn']>=0.3]['Customer ID'])\n",
    "cust_at_risk_pred = set(df_ml[df_ml['predict_churn']==1]['Customer ID'])\n",
    "cust_at_risk = cust_at_risk_proba.union(cust_at_risk_pred)\n",
    "cust_at_risk = cust_at_risk.difference(set(churned_last_half_2011['Customer ID']))"
   ]
  },
  {
   "cell_type": "code",
   "execution_count": 79,
   "metadata": {},
   "outputs": [
    {
     "data": {
      "text/plain": [
       "{'13408.0', '13694.0', '13798.0', '14646.0', '17509.0'}"
      ]
     },
     "execution_count": 79,
     "metadata": {},
     "output_type": "execute_result"
    }
   ],
   "source": [
    "cust_at_risk"
   ]
  },
  {
   "cell_type": "code",
   "execution_count": 80,
   "metadata": {},
   "outputs": [],
   "source": [
    "#let us finally look at the data corresponding to these customers to see if we can explain why they are at risk of churning\n",
    "customers_at_risk = df_ml[df_ml['Customer ID'].map(lambda x: x in cust_at_risk)][['Customer ID', \n",
    "                                                                                 'Quantity', 'amount_spent',\n",
    "                                                                                'SinceLastPurch', 'Country', \n",
    "                                                                                'NumInvoices', 'FreqMean']]"
   ]
  },
  {
   "cell_type": "code",
   "execution_count": 81,
   "metadata": {},
   "outputs": [
    {
     "data": {
      "text/html": [
       "<div>\n",
       "<style scoped>\n",
       "    .dataframe tbody tr th:only-of-type {\n",
       "        vertical-align: middle;\n",
       "    }\n",
       "\n",
       "    .dataframe tbody tr th {\n",
       "        vertical-align: top;\n",
       "    }\n",
       "\n",
       "    .dataframe thead th {\n",
       "        text-align: right;\n",
       "    }\n",
       "</style>\n",
       "<table border=\"1\" class=\"dataframe\">\n",
       "  <thead>\n",
       "    <tr style=\"text-align: right;\">\n",
       "      <th></th>\n",
       "      <th>Customer ID</th>\n",
       "      <th>Quantity</th>\n",
       "      <th>amount_spent</th>\n",
       "      <th>SinceLastPurch</th>\n",
       "      <th>Country</th>\n",
       "      <th>NumInvoices</th>\n",
       "      <th>FreqMean</th>\n",
       "    </tr>\n",
       "  </thead>\n",
       "  <tbody>\n",
       "    <tr>\n",
       "      <th>1044</th>\n",
       "      <td>13408.0</td>\n",
       "      <td>28525.0</td>\n",
       "      <td>49751.36</td>\n",
       "      <td>22.0</td>\n",
       "      <td>United Kingdom</td>\n",
       "      <td>106</td>\n",
       "      <td>9.293333</td>\n",
       "    </tr>\n",
       "    <tr>\n",
       "      <th>1325</th>\n",
       "      <td>13694.0</td>\n",
       "      <td>184542.0</td>\n",
       "      <td>190391.50</td>\n",
       "      <td>24.0</td>\n",
       "      <td>United Kingdom</td>\n",
       "      <td>143</td>\n",
       "      <td>9.283784</td>\n",
       "    </tr>\n",
       "    <tr>\n",
       "      <th>1428</th>\n",
       "      <td>13798.0</td>\n",
       "      <td>47253.0</td>\n",
       "      <td>73177.50</td>\n",
       "      <td>22.0</td>\n",
       "      <td>United Kingdom</td>\n",
       "      <td>110</td>\n",
       "      <td>7.114583</td>\n",
       "    </tr>\n",
       "    <tr>\n",
       "      <th>2269</th>\n",
       "      <td>14646.0</td>\n",
       "      <td>365596.0</td>\n",
       "      <td>523202.74</td>\n",
       "      <td>22.0</td>\n",
       "      <td>Netherlands</td>\n",
       "      <td>146</td>\n",
       "      <td>8.807692</td>\n",
       "    </tr>\n",
       "    <tr>\n",
       "      <th>5102</th>\n",
       "      <td>17509.0</td>\n",
       "      <td>3508.0</td>\n",
       "      <td>6069.24</td>\n",
       "      <td>78.0</td>\n",
       "      <td>United Kingdom</td>\n",
       "      <td>8</td>\n",
       "      <td>2.500000</td>\n",
       "    </tr>\n",
       "  </tbody>\n",
       "</table>\n",
       "</div>"
      ],
      "text/plain": [
       "     Customer ID  Quantity  amount_spent  SinceLastPurch         Country  \\\n",
       "1044     13408.0   28525.0      49751.36            22.0  United Kingdom   \n",
       "1325     13694.0  184542.0     190391.50            24.0  United Kingdom   \n",
       "1428     13798.0   47253.0      73177.50            22.0  United Kingdom   \n",
       "2269     14646.0  365596.0     523202.74            22.0     Netherlands   \n",
       "5102     17509.0    3508.0       6069.24            78.0  United Kingdom   \n",
       "\n",
       "      NumInvoices  FreqMean  \n",
       "1044          106  9.293333  \n",
       "1325          143  9.283784  \n",
       "1428          110  7.114583  \n",
       "2269          146  8.807692  \n",
       "5102            8  2.500000  "
      ]
     },
     "execution_count": 81,
     "metadata": {},
     "output_type": "execute_result"
    }
   ],
   "source": [
    "customers_at_risk"
   ]
  },
  {
   "cell_type": "markdown",
   "metadata": {},
   "source": [
    "#### Conclusions\n",
    "Customers that are at risk of churning are customers that make purchase very often and bring a lot of income in terms of their amount spent. Hence, it would be recommended to offer them a premium, or a loyalty program or a promotion on products to keep them. "
   ]
  },
  {
   "cell_type": "code",
   "execution_count": null,
   "metadata": {},
   "outputs": [],
   "source": []
  },
  {
   "cell_type": "markdown",
   "metadata": {},
   "source": [
    "## Final Remarks"
   ]
  },
  {
   "cell_type": "markdown",
   "metadata": {},
   "source": [
    "There are many more things that one could do here. To list a few:\n",
    "- Another linear classification method that can be used is SVM. The disadvantage of SVM is that it is not scalable and also that it does not naturally provide us with a probably of churning which we used to identify customers at risk. \n",
    "- One could use Ensemble Learning by aggregating classifiers. Ensemble learning is known to outperform even the best stand-alone models. \n",
    "- Gradient Boosting could have been used for this type of problem as well. \n",
    "- While we dropped the information on the exact baskets of customers, one can use this information in a meaninful way. One of the ways would be to create a bag of words corresponding to all the products, select the most popular ones and set categorical variables on whether the customer bought this product or not. "
   ]
  },
  {
   "cell_type": "code",
   "execution_count": null,
   "metadata": {},
   "outputs": [],
   "source": []
  }
 ],
 "metadata": {
  "kernelspec": {
   "display_name": "Python 3",
   "language": "python",
   "name": "python3"
  },
  "language_info": {
   "codemirror_mode": {
    "name": "ipython",
    "version": 3
   },
   "file_extension": ".py",
   "mimetype": "text/x-python",
   "name": "python",
   "nbconvert_exporter": "python",
   "pygments_lexer": "ipython3",
   "version": "3.6.8"
  }
 },
 "nbformat": 4,
 "nbformat_minor": 2
}
